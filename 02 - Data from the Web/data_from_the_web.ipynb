{
 "cells": [
  {
   "cell_type": "code",
   "execution_count": 1,
   "metadata": {
    "collapsed": true
   },
   "outputs": [],
   "source": [
    "%matplotlib inline\n",
    "import pandas as pd\n",
    "import numpy as np\n",
    "import matplotlib.pyplot as plt\n",
    "import seaborn as sns\n",
    "import scipy as sp\n",
    "import requests\n",
    "from bs4 import BeautifulSoup"
   ]
  },
  {
   "cell_type": "markdown",
   "metadata": {},
   "source": [
    "# GETTING STARTED"
   ]
  },
  {
   "cell_type": "markdown",
   "metadata": {},
   "source": [
    "This is the URL of IS-Academia where you can fill the form to obtain information on a given semester."
   ]
  },
  {
   "cell_type": "code",
   "execution_count": 2,
   "metadata": {
    "collapsed": true
   },
   "outputs": [],
   "source": [
    "BASE_URL = 'http://isa.epfl.ch/imoniteur_ISAP/!GEDPUBLICREPORTS.filter?ww_i_reportModel=133685247'"
   ]
  },
  {
   "cell_type": "code",
   "execution_count": 3,
   "metadata": {
    "collapsed": false
   },
   "outputs": [],
   "source": [
    "r = requests.get(BASE_URL)"
   ]
  },
  {
   "cell_type": "code",
   "execution_count": 4,
   "metadata": {
    "collapsed": false
   },
   "outputs": [],
   "source": [
    "html_doc = r.text"
   ]
  },
  {
   "cell_type": "markdown",
   "metadata": {},
   "source": [
    "Let's have a look at the HTML file from our base URL."
   ]
  },
  {
   "cell_type": "code",
   "execution_count": 5,
   "metadata": {
    "collapsed": false
   },
   "outputs": [
    {
     "name": "stdout",
     "output_type": "stream",
     "text": [
      "<html>\n",
      " <head>\n",
      "  <meta content=\"text/html; charset=utf-8\" http-equiv=\"Content-Type\">\n",
      "   <div>\n",
      "   </div>\n",
      "   <title>\n",
      "   </title>\n",
      "   <script src=\"GEDPUBLICREPORTS.txt?ww_x_path=Gestac.Base.Palette_js&amp;ww_c_langue=fr\" type=\"text/javascript\">\n",
      "   </script>\n",
      "   <link href=\"GEDPUBLICREPORTS.css?ww_x_path=Gestac.Moniteur.Style\" rel=\"stylesheet\" type=\"text/css\">\n",
      "    <link href=\"GEDPUBLICREPORTS.css?ww_x_path=Gestac.Moniteur.StyleNavigator\" rel=\"stylesheet\" type=\"text/css\"/>\n",
      "   </link>\n",
      "  </meta>\n",
      " </head>\n",
      " <body alink=\"#666666\" bgcolor=\"#ffffff\" link=\"#666666\" marginheight=\"0\" marginwidth=\"5\" vlink=\"#666666\">\n",
      "  <div class=\"filtres\">\n",
      "   <form action=\"!GEDPUBLICREPORTS.filter\" method=\"GET\" name=\"f\">\n",
      "    <input name=\"ww_b_list\" type=\"hidden\" value=\"1\">\n",
      "     <input name=\"ww_i_reportmodel\" type=\"hidden\" value=\"133685247\">\n",
      "      <input name=\"ww_c_langue\" type=\"hidden\" value=\"\">\n",
      "       <h1 id=\"titre\">\n",
      "        Liste des étudiants inscrits par semestre\n",
      "       </h1>\n",
      "       <table border=\"0\" id=\"format\">\n",
      "        <tr>\n",
      "         <th>\n",
      "          Format:\n",
      "         </th>\n",
      "        </tr>\n",
      "        <tr>\n",
      "         <td>\n",
      "          <input checked=\"\" name=\"ww_i_reportModelXsl\" type=\"radio\" value=\"133685270\">\n",
      "           html\n",
      "          </input>\n",
      "         </td>\n",
      "        </tr>\n",
      "        <tr>\n",
      "         <td>\n",
      "          <input name=\"ww_i_reportModelXsl\" type=\"radio\" value=\"133685271\">\n",
      "           xls\n",
      "          </input>\n",
      "         </td>\n",
      "        </tr>\n",
      "       </table>\n",
      "       <h1>\n",
      "       </h1>\n",
      "       <table border=\"0\" id=\"filtre\">\n",
      "        <tr>\n",
      "         <th>\n",
      "          Unité académique\n",
      "         </th>\n",
      "         <td>\n",
      "          <input name=\"zz_x_UNITE_ACAD\" type=\"hidden\" value=\"\">\n",
      "           <select name=\"ww_x_UNITE_ACAD\" onchange=\"document.f.zz_x_UNITE_ACAD.value=document.f.ww_x_UNITE_ACAD.options[document.f.ww_x_UNITE_ACAD.selectedIndex].text\">\n",
      "            <option value=\"null\">\n",
      "            </option>\n",
      "            <option value=\"942293\">\n",
      "             Architecture\n",
      "            </option>\n",
      "            <option value=\"246696\">\n",
      "             Chimie et génie chimique\n",
      "            </option>\n",
      "            <option value=\"943282\">\n",
      "             Cours de mathématiques spéciales\n",
      "            </option>\n",
      "            <option value=\"637841336\">\n",
      "             EME (EPFL Middle East)\n",
      "            </option>\n",
      "            <option value=\"942623\">\n",
      "             Génie civil\n",
      "            </option>\n",
      "            <option value=\"944263\">\n",
      "             Génie mécanique\n",
      "            </option>\n",
      "            <option value=\"943936\">\n",
      "             Génie électrique et électronique\n",
      "            </option>\n",
      "            <option value=\"2054839157\">\n",
      "             Humanités digitales\n",
      "            </option>\n",
      "            <option value=\"249847\">\n",
      "             Informatique\n",
      "            </option>\n",
      "            <option value=\"120623110\">\n",
      "             Ingénierie financière\n",
      "            </option>\n",
      "            <option value=\"946882\">\n",
      "             Management de la technologie\n",
      "            </option>\n",
      "            <option value=\"944590\">\n",
      "             Mathématiques\n",
      "            </option>\n",
      "            <option value=\"945244\">\n",
      "             Microtechnique\n",
      "            </option>\n",
      "            <option value=\"945571\">\n",
      "             Physique\n",
      "            </option>\n",
      "            <option value=\"944917\">\n",
      "             Science et génie des matériaux\n",
      "            </option>\n",
      "            <option value=\"942953\">\n",
      "             Sciences et ingénierie de l'environnement\n",
      "            </option>\n",
      "            <option value=\"945901\">\n",
      "             Sciences et technologies du vivant\n",
      "            </option>\n",
      "            <option value=\"1574548993\">\n",
      "             Section FCUE\n",
      "            </option>\n",
      "            <option value=\"946228\">\n",
      "             Systèmes de communication\n",
      "            </option>\n",
      "           </select>\n",
      "          </input>\n",
      "         </td>\n",
      "        </tr>\n",
      "        <tr>\n",
      "         <th>\n",
      "          Période académique\n",
      "         </th>\n",
      "         <td>\n",
      "          <input name=\"zz_x_PERIODE_ACAD\" type=\"hidden\" value=\"\">\n",
      "           <select name=\"ww_x_PERIODE_ACAD\" onchange=\"document.f.zz_x_PERIODE_ACAD.value=document.f.ww_x_PERIODE_ACAD.options[document.f.ww_x_PERIODE_ACAD.selectedIndex].text\">\n",
      "            <option value=\"null\">\n",
      "            </option>\n",
      "            <option value=\"355925344\">\n",
      "             2016-2017\n",
      "            </option>\n",
      "            <option value=\"213638028\">\n",
      "             2015-2016\n",
      "            </option>\n",
      "            <option value=\"213637922\">\n",
      "             2014-2015\n",
      "            </option>\n",
      "            <option value=\"213637754\">\n",
      "             2013-2014\n",
      "            </option>\n",
      "            <option value=\"123456101\">\n",
      "             2012-2013\n",
      "            </option>\n",
      "            <option value=\"123455150\">\n",
      "             2011-2012\n",
      "            </option>\n",
      "            <option value=\"39486325\">\n",
      "             2010-2011\n",
      "            </option>\n",
      "            <option value=\"978195\">\n",
      "             2009-2010\n",
      "            </option>\n",
      "            <option value=\"978187\">\n",
      "             2008-2009\n",
      "            </option>\n",
      "            <option value=\"978181\">\n",
      "             2007-2008\n",
      "            </option>\n",
      "           </select>\n",
      "          </input>\n",
      "         </td>\n",
      "        </tr>\n",
      "        <tr>\n",
      "         <th>\n",
      "          Période pédagogique\n",
      "         </th>\n",
      "         <td>\n",
      "          <input name=\"zz_x_PERIODE_PEDAGO\" type=\"hidden\" value=\"\">\n",
      "           <select name=\"ww_x_PERIODE_PEDAGO\" onchange=\"document.f.zz_x_PERIODE_PEDAGO.value=document.f.ww_x_PERIODE_PEDAGO.options[document.f.ww_x_PERIODE_PEDAGO.selectedIndex].text\">\n",
      "            <option value=\"null\">\n",
      "            </option>\n",
      "            <option value=\"249108\">\n",
      "             Bachelor semestre 1\n",
      "            </option>\n",
      "            <option value=\"249114\">\n",
      "             Bachelor semestre 2\n",
      "            </option>\n",
      "            <option value=\"942155\">\n",
      "             Bachelor semestre 3\n",
      "            </option>\n",
      "            <option value=\"942163\">\n",
      "             Bachelor semestre 4\n",
      "            </option>\n",
      "            <option value=\"942120\">\n",
      "             Bachelor semestre 5\n",
      "            </option>\n",
      "            <option value=\"2226768\">\n",
      "             Bachelor semestre 5b\n",
      "            </option>\n",
      "            <option value=\"942175\">\n",
      "             Bachelor semestre 6\n",
      "            </option>\n",
      "            <option value=\"2226785\">\n",
      "             Bachelor semestre 6b\n",
      "            </option>\n",
      "            <option value=\"2230106\">\n",
      "             Master semestre 1\n",
      "            </option>\n",
      "            <option value=\"942192\">\n",
      "             Master semestre 2\n",
      "            </option>\n",
      "            <option value=\"2230128\">\n",
      "             Master semestre 3\n",
      "            </option>\n",
      "            <option value=\"2230140\">\n",
      "             Master semestre 4\n",
      "            </option>\n",
      "            <option value=\"2335667\">\n",
      "             Mineur semestre 1\n",
      "            </option>\n",
      "            <option value=\"2335676\">\n",
      "             Mineur semestre 2\n",
      "            </option>\n",
      "            <option value=\"2063602308\">\n",
      "             Mise à niveau\n",
      "            </option>\n",
      "            <option value=\"249127\">\n",
      "             Projet Master automne\n",
      "            </option>\n",
      "            <option value=\"3781783\">\n",
      "             Projet Master printemps\n",
      "            </option>\n",
      "            <option value=\"953159\">\n",
      "             Semestre automne\n",
      "            </option>\n",
      "            <option value=\"2754553\">\n",
      "             Semestre printemps\n",
      "            </option>\n",
      "            <option value=\"953137\">\n",
      "             Stage automne 3ème année\n",
      "            </option>\n",
      "            <option value=\"2226616\">\n",
      "             Stage automne 4ème année\n",
      "            </option>\n",
      "            <option value=\"983606\">\n",
      "             Stage printemps 3ème année\n",
      "            </option>\n",
      "            <option value=\"2226626\">\n",
      "             Stage printemps 4ème année\n",
      "            </option>\n",
      "            <option value=\"2227132\">\n",
      "             Stage printemps master\n",
      "            </option>\n",
      "           </select>\n",
      "          </input>\n",
      "         </td>\n",
      "        </tr>\n",
      "        <tr>\n",
      "         <th>\n",
      "          Type de semestre\n",
      "         </th>\n",
      "         <td>\n",
      "          <input name=\"zz_x_HIVERETE\" type=\"hidden\" value=\"\">\n",
      "           <select name=\"ww_x_HIVERETE\" onchange=\"document.f.zz_x_HIVERETE.value=document.f.ww_x_HIVERETE.options[document.f.ww_x_HIVERETE.selectedIndex].text\">\n",
      "            <option value=\"null\">\n",
      "            </option>\n",
      "            <option value=\"2936286\">\n",
      "             Semestre d'automne\n",
      "            </option>\n",
      "            <option value=\"2936295\">\n",
      "             Semestre de printemps\n",
      "            </option>\n",
      "           </select>\n",
      "          </input>\n",
      "         </td>\n",
      "        </tr>\n",
      "       </table>\n",
      "       <input name=\"dummy\" type=\"submit\" value=\"ok\"/>\n",
      "      </input>\n",
      "     </input>\n",
      "    </input>\n",
      "   </form>\n",
      "   <script type=\"text/javascript\">\n",
      "    function loadReport(x) {\n",
      "    var querysup='';\n",
      "    writeRunning(top.principal);\n",
      "    for (i=0; document.f.elements.length > i; i++){\n",
      "     if (document.f.elements[i].checked){\n",
      "      querysup=querysup+'&'+document.f.elements[i].name+'='+document.f.elements[i].value;\n",
      "     }\n",
      "     if (document.f.elements[i].type=='select-one') {\n",
      "      querysup=querysup+'&'+document.f.elements[i].name+'='+document.f.elements[i].options[document.f.elements[i].selectedIndex].value;\n",
      "     }\n",
      "     if (document.f.elements[i].type=='text'){\n",
      "      querysup=querysup+'&'+document.f.elements[i].name+'='+document.f.elements[i].value;\n",
      "     }\n",
      "    }\n",
      "    parent.principal.location = \"!GEDPUBLICREPORTS.bhtml?\"+x+\"&ww_i_reportModel=133685247\"+querysup;\n",
      "    if (navigator.userAgent.toUpperCase().indexOf('SAFARI') != -1) {\n",
      "     document.location.reload();\n",
      "    }\n",
      "   }\n",
      "   </script>\n",
      "   <h1>\n",
      "   </h1>\n",
      "   <table border=\"0\">\n",
      "   </table>\n",
      "  </div>\n",
      " </body>\n",
      "</html>\n",
      "<!-- OpenXml:0.01s  agent ctrl:0.00s  xml:0.50s  xsl clob before parse:0.00s  xsl extr&stylesheet:0.00s  xsl clob before parse:0.00s  xsl after parsing:0.00s  xsl ctrl data:0.00s  transform 2:0.05s  xsl process:0.00s  -->\n",
      "\n"
     ]
    }
   ],
   "source": [
    "soup = BeautifulSoup(html_doc, 'html.parser')\n",
    "print(soup.prettify())"
   ]
  },
  {
   "cell_type": "markdown",
   "metadata": {},
   "source": [
    "We see that all the form information is contained inside the a `table` element having `id=\"filtre\"`."
   ]
  },
  {
   "cell_type": "code",
   "execution_count": 6,
   "metadata": {
    "collapsed": false
   },
   "outputs": [
    {
     "name": "stdout",
     "output_type": "stream",
     "text": [
      "<table border=\"0\" id=\"filtre\">\n",
      " <tr>\n",
      "  <th>\n",
      "   Unité académique\n",
      "  </th>\n",
      "  <td>\n",
      "   <input name=\"zz_x_UNITE_ACAD\" type=\"hidden\" value=\"\">\n",
      "    <select name=\"ww_x_UNITE_ACAD\" onchange=\"document.f.zz_x_UNITE_ACAD.value=document.f.ww_x_UNITE_ACAD.options[document.f.ww_x_UNITE_ACAD.selectedIndex].text\">\n",
      "     <option value=\"null\">\n",
      "     </option>\n",
      "     <option value=\"942293\">\n",
      "      Architecture\n",
      "     </option>\n",
      "     <option value=\"246696\">\n",
      "      Chimie et génie chimique\n",
      "     </option>\n",
      "     <option value=\"943282\">\n",
      "      Cours de mathématiques spéciales\n",
      "     </option>\n",
      "     <option value=\"637841336\">\n",
      "      EME (EPFL Middle East)\n",
      "     </option>\n",
      "     <option value=\"942623\">\n",
      "      Génie civil\n",
      "     </option>\n",
      "     <option value=\"944263\">\n",
      "      Génie mécanique\n",
      "     </option>\n",
      "     <option value=\"943936\">\n",
      "      Génie électrique et électronique\n",
      "     </option>\n",
      "     <option value=\"2054839157\">\n",
      "      Humanités digitales\n",
      "     </option>\n",
      "     <option value=\"249847\">\n",
      "      Informatique\n",
      "     </option>\n",
      "     <option value=\"120623110\">\n",
      "      Ingénierie financière\n",
      "     </option>\n",
      "     <option value=\"946882\">\n",
      "      Management de la technologie\n",
      "     </option>\n",
      "     <option value=\"944590\">\n",
      "      Mathématiques\n",
      "     </option>\n",
      "     <option value=\"945244\">\n",
      "      Microtechnique\n",
      "     </option>\n",
      "     <option value=\"945571\">\n",
      "      Physique\n",
      "     </option>\n",
      "     <option value=\"944917\">\n",
      "      Science et génie des matériaux\n",
      "     </option>\n",
      "     <option value=\"942953\">\n",
      "      Sciences et ingénierie de l'environnement\n",
      "     </option>\n",
      "     <option value=\"945901\">\n",
      "      Sciences et technologies du vivant\n",
      "     </option>\n",
      "     <option value=\"1574548993\">\n",
      "      Section FCUE\n",
      "     </option>\n",
      "     <option value=\"946228\">\n",
      "      Systèmes de communication\n",
      "     </option>\n",
      "    </select>\n",
      "   </input>\n",
      "  </td>\n",
      " </tr>\n",
      " <tr>\n",
      "  <th>\n",
      "   Période académique\n",
      "  </th>\n",
      "  <td>\n",
      "   <input name=\"zz_x_PERIODE_ACAD\" type=\"hidden\" value=\"\">\n",
      "    <select name=\"ww_x_PERIODE_ACAD\" onchange=\"document.f.zz_x_PERIODE_ACAD.value=document.f.ww_x_PERIODE_ACAD.options[document.f.ww_x_PERIODE_ACAD.selectedIndex].text\">\n",
      "     <option value=\"null\">\n",
      "     </option>\n",
      "     <option value=\"355925344\">\n",
      "      2016-2017\n",
      "     </option>\n",
      "     <option value=\"213638028\">\n",
      "      2015-2016\n",
      "     </option>\n",
      "     <option value=\"213637922\">\n",
      "      2014-2015\n",
      "     </option>\n",
      "     <option value=\"213637754\">\n",
      "      2013-2014\n",
      "     </option>\n",
      "     <option value=\"123456101\">\n",
      "      2012-2013\n",
      "     </option>\n",
      "     <option value=\"123455150\">\n",
      "      2011-2012\n",
      "     </option>\n",
      "     <option value=\"39486325\">\n",
      "      2010-2011\n",
      "     </option>\n",
      "     <option value=\"978195\">\n",
      "      2009-2010\n",
      "     </option>\n",
      "     <option value=\"978187\">\n",
      "      2008-2009\n",
      "     </option>\n",
      "     <option value=\"978181\">\n",
      "      2007-2008\n",
      "     </option>\n",
      "    </select>\n",
      "   </input>\n",
      "  </td>\n",
      " </tr>\n",
      " <tr>\n",
      "  <th>\n",
      "   Période pédagogique\n",
      "  </th>\n",
      "  <td>\n",
      "   <input name=\"zz_x_PERIODE_PEDAGO\" type=\"hidden\" value=\"\">\n",
      "    <select name=\"ww_x_PERIODE_PEDAGO\" onchange=\"document.f.zz_x_PERIODE_PEDAGO.value=document.f.ww_x_PERIODE_PEDAGO.options[document.f.ww_x_PERIODE_PEDAGO.selectedIndex].text\">\n",
      "     <option value=\"null\">\n",
      "     </option>\n",
      "     <option value=\"249108\">\n",
      "      Bachelor semestre 1\n",
      "     </option>\n",
      "     <option value=\"249114\">\n",
      "      Bachelor semestre 2\n",
      "     </option>\n",
      "     <option value=\"942155\">\n",
      "      Bachelor semestre 3\n",
      "     </option>\n",
      "     <option value=\"942163\">\n",
      "      Bachelor semestre 4\n",
      "     </option>\n",
      "     <option value=\"942120\">\n",
      "      Bachelor semestre 5\n",
      "     </option>\n",
      "     <option value=\"2226768\">\n",
      "      Bachelor semestre 5b\n",
      "     </option>\n",
      "     <option value=\"942175\">\n",
      "      Bachelor semestre 6\n",
      "     </option>\n",
      "     <option value=\"2226785\">\n",
      "      Bachelor semestre 6b\n",
      "     </option>\n",
      "     <option value=\"2230106\">\n",
      "      Master semestre 1\n",
      "     </option>\n",
      "     <option value=\"942192\">\n",
      "      Master semestre 2\n",
      "     </option>\n",
      "     <option value=\"2230128\">\n",
      "      Master semestre 3\n",
      "     </option>\n",
      "     <option value=\"2230140\">\n",
      "      Master semestre 4\n",
      "     </option>\n",
      "     <option value=\"2335667\">\n",
      "      Mineur semestre 1\n",
      "     </option>\n",
      "     <option value=\"2335676\">\n",
      "      Mineur semestre 2\n",
      "     </option>\n",
      "     <option value=\"2063602308\">\n",
      "      Mise à niveau\n",
      "     </option>\n",
      "     <option value=\"249127\">\n",
      "      Projet Master automne\n",
      "     </option>\n",
      "     <option value=\"3781783\">\n",
      "      Projet Master printemps\n",
      "     </option>\n",
      "     <option value=\"953159\">\n",
      "      Semestre automne\n",
      "     </option>\n",
      "     <option value=\"2754553\">\n",
      "      Semestre printemps\n",
      "     </option>\n",
      "     <option value=\"953137\">\n",
      "      Stage automne 3ème année\n",
      "     </option>\n",
      "     <option value=\"2226616\">\n",
      "      Stage automne 4ème année\n",
      "     </option>\n",
      "     <option value=\"983606\">\n",
      "      Stage printemps 3ème année\n",
      "     </option>\n",
      "     <option value=\"2226626\">\n",
      "      Stage printemps 4ème année\n",
      "     </option>\n",
      "     <option value=\"2227132\">\n",
      "      Stage printemps master\n",
      "     </option>\n",
      "    </select>\n",
      "   </input>\n",
      "  </td>\n",
      " </tr>\n",
      " <tr>\n",
      "  <th>\n",
      "   Type de semestre\n",
      "  </th>\n",
      "  <td>\n",
      "   <input name=\"zz_x_HIVERETE\" type=\"hidden\" value=\"\">\n",
      "    <select name=\"ww_x_HIVERETE\" onchange=\"document.f.zz_x_HIVERETE.value=document.f.ww_x_HIVERETE.options[document.f.ww_x_HIVERETE.selectedIndex].text\">\n",
      "     <option value=\"null\">\n",
      "     </option>\n",
      "     <option value=\"2936286\">\n",
      "      Semestre d'automne\n",
      "     </option>\n",
      "     <option value=\"2936295\">\n",
      "      Semestre de printemps\n",
      "     </option>\n",
      "    </select>\n",
      "   </input>\n",
      "  </td>\n",
      " </tr>\n",
      "</table>\n",
      "\n"
     ]
    }
   ],
   "source": [
    "form_table = soup.find(\"table\", {\"id\" : \"filtre\"})\n",
    "print(form_table.prettify())"
   ]
  },
  {
   "cell_type": "markdown",
   "metadata": {},
   "source": [
    "After selecting the different values in the dropdown windows for building the query, clicking `OK` and selecting the file we are interested in (not `Tous`), we see that the generated URL is of the type:<br>\n",
    "'http://isa.epfl.ch/imoniteur_ISAP/!GEDPUBLICREPORTS.html?ww_x_GPS=19561998&ww_i_reportModel=133685247&ww_i_reportModelXsl=133685270&ww_x_UNITE_ACAD=249847&ww_x_PERIODE_ACAD=978181&ww_x_PERIODE_PEDAGO=942175&ww_x_HIVERETE=null'<br>\n",
    "Thus, we are interested in getting the values for:\n",
    "- academic unit: `Informatique`\n",
    "- academic year: from `2007-2008` to `2016-2017`\n",
    "- semester type: `Bachelor semestre 1`, etc"
   ]
  },
  {
   "cell_type": "markdown",
   "metadata": {},
   "source": [
    "Let's get the different forms: `Unité académique`, `Période académique`, `Période pédagogique`, `Type de semestre` from the base URL."
   ]
  },
  {
   "cell_type": "code",
   "execution_count": 7,
   "metadata": {
    "collapsed": false
   },
   "outputs": [],
   "source": [
    "acad_units_elem = form_table.find(\"input\", {\"name\" : \"zz_x_UNITE_ACAD\"})\n",
    "acad_years_elem = form_table.find(\"input\", {\"name\" : \"zz_x_PERIODE_ACAD\"})\n",
    "semesters_elem = form_table.find(\"input\", {\"name\" : \"zz_x_PERIODE_PEDAGO\"})\n",
    "semester_type_elem = form_table.find(\"input\", {\"name\" : \"zz_x_HIVERETE\"})"
   ]
  },
  {
   "cell_type": "code",
   "execution_count": 8,
   "metadata": {
    "collapsed": false
   },
   "outputs": [],
   "source": [
    "def get_frame_from_element(element):\n",
    "    all_options = element.find_all(\"option\")\n",
    "    option_dict = {option.text: option.attrs['value'] for option in all_options if 'null' not in option.attrs['value']}\n",
    "    option_frame = pd.DataFrame.from_dict(option_dict,orient='index')\n",
    "    option_frame.columns.name = 'Field'\n",
    "    option_frame.rename(columns = {0:'Code'},inplace=True)\n",
    "    option_frame.sort_index(inplace=True)\n",
    "    return option_frame"
   ]
  },
  {
   "cell_type": "markdown",
   "metadata": {},
   "source": [
    "The previous function helps us visualizing the content of the downloaded HTML elements by transforming them in DataFrame's."
   ]
  },
  {
   "cell_type": "code",
   "execution_count": 9,
   "metadata": {
    "collapsed": false
   },
   "outputs": [
    {
     "data": {
      "text/html": [
       "<div>\n",
       "<table border=\"1\" class=\"dataframe\">\n",
       "  <thead>\n",
       "    <tr style=\"text-align: right;\">\n",
       "      <th>Field</th>\n",
       "      <th>Code</th>\n",
       "    </tr>\n",
       "  </thead>\n",
       "  <tbody>\n",
       "    <tr>\n",
       "      <th>Architecture</th>\n",
       "      <td>942293</td>\n",
       "    </tr>\n",
       "    <tr>\n",
       "      <th>Chimie et génie chimique</th>\n",
       "      <td>246696</td>\n",
       "    </tr>\n",
       "    <tr>\n",
       "      <th>Cours de mathématiques spéciales</th>\n",
       "      <td>943282</td>\n",
       "    </tr>\n",
       "    <tr>\n",
       "      <th>EME (EPFL Middle East)</th>\n",
       "      <td>637841336</td>\n",
       "    </tr>\n",
       "    <tr>\n",
       "      <th>Génie civil</th>\n",
       "      <td>942623</td>\n",
       "    </tr>\n",
       "    <tr>\n",
       "      <th>Génie mécanique</th>\n",
       "      <td>944263</td>\n",
       "    </tr>\n",
       "    <tr>\n",
       "      <th>Génie électrique et électronique</th>\n",
       "      <td>943936</td>\n",
       "    </tr>\n",
       "    <tr>\n",
       "      <th>Humanités digitales</th>\n",
       "      <td>2054839157</td>\n",
       "    </tr>\n",
       "    <tr>\n",
       "      <th>Informatique</th>\n",
       "      <td>249847</td>\n",
       "    </tr>\n",
       "    <tr>\n",
       "      <th>Ingénierie financière</th>\n",
       "      <td>120623110</td>\n",
       "    </tr>\n",
       "    <tr>\n",
       "      <th>Management de la technologie</th>\n",
       "      <td>946882</td>\n",
       "    </tr>\n",
       "    <tr>\n",
       "      <th>Mathématiques</th>\n",
       "      <td>944590</td>\n",
       "    </tr>\n",
       "    <tr>\n",
       "      <th>Microtechnique</th>\n",
       "      <td>945244</td>\n",
       "    </tr>\n",
       "    <tr>\n",
       "      <th>Physique</th>\n",
       "      <td>945571</td>\n",
       "    </tr>\n",
       "    <tr>\n",
       "      <th>Science et génie des matériaux</th>\n",
       "      <td>944917</td>\n",
       "    </tr>\n",
       "    <tr>\n",
       "      <th>Sciences et ingénierie de l'environnement</th>\n",
       "      <td>942953</td>\n",
       "    </tr>\n",
       "    <tr>\n",
       "      <th>Sciences et technologies du vivant</th>\n",
       "      <td>945901</td>\n",
       "    </tr>\n",
       "    <tr>\n",
       "      <th>Section FCUE</th>\n",
       "      <td>1574548993</td>\n",
       "    </tr>\n",
       "    <tr>\n",
       "      <th>Systèmes de communication</th>\n",
       "      <td>946228</td>\n",
       "    </tr>\n",
       "  </tbody>\n",
       "</table>\n",
       "</div>"
      ],
      "text/plain": [
       "Field                                            Code\n",
       "Architecture                                   942293\n",
       "Chimie et génie chimique                       246696\n",
       "Cours de mathématiques spéciales               943282\n",
       "EME (EPFL Middle East)                      637841336\n",
       "Génie civil                                    942623\n",
       "Génie mécanique                                944263\n",
       "Génie électrique et électronique               943936\n",
       "Humanités digitales                        2054839157\n",
       "Informatique                                   249847\n",
       "Ingénierie financière                       120623110\n",
       "Management de la technologie                   946882\n",
       "Mathématiques                                  944590\n",
       "Microtechnique                                 945244\n",
       "Physique                                       945571\n",
       "Science et génie des matériaux                 944917\n",
       "Sciences et ingénierie de l'environnement      942953\n",
       "Sciences et technologies du vivant             945901\n",
       "Section FCUE                               1574548993\n",
       "Systèmes de communication                      946228"
      ]
     },
     "execution_count": 9,
     "metadata": {},
     "output_type": "execute_result"
    }
   ],
   "source": [
    "acad_units = get_frame_from_element(acad_units_elem)\n",
    "acad_units"
   ]
  },
  {
   "cell_type": "code",
   "execution_count": 10,
   "metadata": {
    "collapsed": false
   },
   "outputs": [
    {
     "data": {
      "text/html": [
       "<div>\n",
       "<table border=\"1\" class=\"dataframe\">\n",
       "  <thead>\n",
       "    <tr style=\"text-align: right;\">\n",
       "      <th>Field</th>\n",
       "      <th>Code</th>\n",
       "    </tr>\n",
       "  </thead>\n",
       "  <tbody>\n",
       "    <tr>\n",
       "      <th>2007-2008</th>\n",
       "      <td>978181</td>\n",
       "    </tr>\n",
       "    <tr>\n",
       "      <th>2008-2009</th>\n",
       "      <td>978187</td>\n",
       "    </tr>\n",
       "    <tr>\n",
       "      <th>2009-2010</th>\n",
       "      <td>978195</td>\n",
       "    </tr>\n",
       "    <tr>\n",
       "      <th>2010-2011</th>\n",
       "      <td>39486325</td>\n",
       "    </tr>\n",
       "    <tr>\n",
       "      <th>2011-2012</th>\n",
       "      <td>123455150</td>\n",
       "    </tr>\n",
       "    <tr>\n",
       "      <th>2012-2013</th>\n",
       "      <td>123456101</td>\n",
       "    </tr>\n",
       "    <tr>\n",
       "      <th>2013-2014</th>\n",
       "      <td>213637754</td>\n",
       "    </tr>\n",
       "    <tr>\n",
       "      <th>2014-2015</th>\n",
       "      <td>213637922</td>\n",
       "    </tr>\n",
       "    <tr>\n",
       "      <th>2015-2016</th>\n",
       "      <td>213638028</td>\n",
       "    </tr>\n",
       "    <tr>\n",
       "      <th>2016-2017</th>\n",
       "      <td>355925344</td>\n",
       "    </tr>\n",
       "  </tbody>\n",
       "</table>\n",
       "</div>"
      ],
      "text/plain": [
       "Field           Code\n",
       "2007-2008     978181\n",
       "2008-2009     978187\n",
       "2009-2010     978195\n",
       "2010-2011   39486325\n",
       "2011-2012  123455150\n",
       "2012-2013  123456101\n",
       "2013-2014  213637754\n",
       "2014-2015  213637922\n",
       "2015-2016  213638028\n",
       "2016-2017  355925344"
      ]
     },
     "execution_count": 10,
     "metadata": {},
     "output_type": "execute_result"
    }
   ],
   "source": [
    "acad_years = get_frame_from_element(acad_years_elem)\n",
    "acad_years"
   ]
  },
  {
   "cell_type": "code",
   "execution_count": 11,
   "metadata": {
    "collapsed": false
   },
   "outputs": [
    {
     "data": {
      "text/html": [
       "<div>\n",
       "<table border=\"1\" class=\"dataframe\">\n",
       "  <thead>\n",
       "    <tr style=\"text-align: right;\">\n",
       "      <th>Field</th>\n",
       "      <th>Code</th>\n",
       "    </tr>\n",
       "  </thead>\n",
       "  <tbody>\n",
       "    <tr>\n",
       "      <th>Bachelor semestre 1</th>\n",
       "      <td>249108</td>\n",
       "    </tr>\n",
       "    <tr>\n",
       "      <th>Bachelor semestre 2</th>\n",
       "      <td>249114</td>\n",
       "    </tr>\n",
       "    <tr>\n",
       "      <th>Bachelor semestre 3</th>\n",
       "      <td>942155</td>\n",
       "    </tr>\n",
       "    <tr>\n",
       "      <th>Bachelor semestre 4</th>\n",
       "      <td>942163</td>\n",
       "    </tr>\n",
       "    <tr>\n",
       "      <th>Bachelor semestre 5</th>\n",
       "      <td>942120</td>\n",
       "    </tr>\n",
       "    <tr>\n",
       "      <th>Bachelor semestre 5b</th>\n",
       "      <td>2226768</td>\n",
       "    </tr>\n",
       "    <tr>\n",
       "      <th>Bachelor semestre 6</th>\n",
       "      <td>942175</td>\n",
       "    </tr>\n",
       "    <tr>\n",
       "      <th>Bachelor semestre 6b</th>\n",
       "      <td>2226785</td>\n",
       "    </tr>\n",
       "    <tr>\n",
       "      <th>Master semestre 1</th>\n",
       "      <td>2230106</td>\n",
       "    </tr>\n",
       "    <tr>\n",
       "      <th>Master semestre 2</th>\n",
       "      <td>942192</td>\n",
       "    </tr>\n",
       "    <tr>\n",
       "      <th>Master semestre 3</th>\n",
       "      <td>2230128</td>\n",
       "    </tr>\n",
       "    <tr>\n",
       "      <th>Master semestre 4</th>\n",
       "      <td>2230140</td>\n",
       "    </tr>\n",
       "    <tr>\n",
       "      <th>Mineur semestre 1</th>\n",
       "      <td>2335667</td>\n",
       "    </tr>\n",
       "    <tr>\n",
       "      <th>Mineur semestre 2</th>\n",
       "      <td>2335676</td>\n",
       "    </tr>\n",
       "    <tr>\n",
       "      <th>Mise à niveau</th>\n",
       "      <td>2063602308</td>\n",
       "    </tr>\n",
       "    <tr>\n",
       "      <th>Projet Master automne</th>\n",
       "      <td>249127</td>\n",
       "    </tr>\n",
       "    <tr>\n",
       "      <th>Projet Master printemps</th>\n",
       "      <td>3781783</td>\n",
       "    </tr>\n",
       "    <tr>\n",
       "      <th>Semestre automne</th>\n",
       "      <td>953159</td>\n",
       "    </tr>\n",
       "    <tr>\n",
       "      <th>Semestre printemps</th>\n",
       "      <td>2754553</td>\n",
       "    </tr>\n",
       "    <tr>\n",
       "      <th>Stage automne 3ème année</th>\n",
       "      <td>953137</td>\n",
       "    </tr>\n",
       "    <tr>\n",
       "      <th>Stage automne 4ème année</th>\n",
       "      <td>2226616</td>\n",
       "    </tr>\n",
       "    <tr>\n",
       "      <th>Stage printemps 3ème année</th>\n",
       "      <td>983606</td>\n",
       "    </tr>\n",
       "    <tr>\n",
       "      <th>Stage printemps 4ème année</th>\n",
       "      <td>2226626</td>\n",
       "    </tr>\n",
       "    <tr>\n",
       "      <th>Stage printemps master</th>\n",
       "      <td>2227132</td>\n",
       "    </tr>\n",
       "  </tbody>\n",
       "</table>\n",
       "</div>"
      ],
      "text/plain": [
       "Field                             Code\n",
       "Bachelor semestre 1             249108\n",
       "Bachelor semestre 2             249114\n",
       "Bachelor semestre 3             942155\n",
       "Bachelor semestre 4             942163\n",
       "Bachelor semestre 5             942120\n",
       "Bachelor semestre 5b           2226768\n",
       "Bachelor semestre 6             942175\n",
       "Bachelor semestre 6b           2226785\n",
       "Master semestre 1              2230106\n",
       "Master semestre 2               942192\n",
       "Master semestre 3              2230128\n",
       "Master semestre 4              2230140\n",
       "Mineur semestre 1              2335667\n",
       "Mineur semestre 2              2335676\n",
       "Mise à niveau               2063602308\n",
       "Projet Master automne           249127\n",
       "Projet Master printemps        3781783\n",
       "Semestre automne                953159\n",
       "Semestre printemps             2754553\n",
       "Stage automne 3ème année        953137\n",
       "Stage automne 4ème année       2226616\n",
       "Stage printemps 3ème année      983606\n",
       "Stage printemps 4ème année     2226626\n",
       "Stage printemps master         2227132"
      ]
     },
     "execution_count": 11,
     "metadata": {},
     "output_type": "execute_result"
    }
   ],
   "source": [
    "semesters = get_frame_from_element(semesters_elem)\n",
    "semesters"
   ]
  },
  {
   "cell_type": "code",
   "execution_count": 12,
   "metadata": {
    "collapsed": false
   },
   "outputs": [
    {
     "data": {
      "text/html": [
       "<div>\n",
       "<table border=\"1\" class=\"dataframe\">\n",
       "  <thead>\n",
       "    <tr style=\"text-align: right;\">\n",
       "      <th>Field</th>\n",
       "      <th>Code</th>\n",
       "    </tr>\n",
       "  </thead>\n",
       "  <tbody>\n",
       "    <tr>\n",
       "      <th>Semestre d'automne</th>\n",
       "      <td>2936286</td>\n",
       "    </tr>\n",
       "    <tr>\n",
       "      <th>Semestre de printemps</th>\n",
       "      <td>2936295</td>\n",
       "    </tr>\n",
       "  </tbody>\n",
       "</table>\n",
       "</div>"
      ],
      "text/plain": [
       "Field                     Code\n",
       "Semestre d'automne     2936286\n",
       "Semestre de printemps  2936295"
      ]
     },
     "execution_count": 12,
     "metadata": {},
     "output_type": "execute_result"
    }
   ],
   "source": [
    "semester_type = get_frame_from_element(semester_type_elem)\n",
    "semester_type"
   ]
  },
  {
   "cell_type": "markdown",
   "metadata": {},
   "source": [
    "<hr>\n",
    "The following function helps us retrieving the HTML page for a given form.<br>\n",
    "It does it in three steps:\n",
    "1. it fills in the form in the BASE_URL with the values that we pass;\n",
    "2. extracts the GPS parameter embedded in the link to the page we want to get;\n",
    "3. retrieves the page."
   ]
  },
  {
   "cell_type": "code",
   "execution_count": 13,
   "metadata": {
    "collapsed": false
   },
   "outputs": [],
   "source": [
    "def get_html_page(acad_unit, acad_year, semester, semester_type):\n",
    "    \n",
    "    # Filter URL strings\n",
    "    BASE = 'http://isa.epfl.ch/imoniteur_ISAP/!GEDPUBLICREPORTS.filter?'\n",
    "    REPORT_MODEL = 'ww_b_list=1&ww_i_reportmodel=133685247&ww_c_langue=&ww_i_reportModelXsl=133685270'\n",
    "    ACAD_UNIT = 'zz_x_UNITE_ACAD=&ww_x_UNITE_ACAD'\n",
    "    ACAD_YEAR = 'zz_x_PERIODE_ACAD=&ww_x_PERIODE_ACAD'\n",
    "    SEMESTER = 'zz_x_PERIODE_PEDAGO=&ww_x_PERIODE_PEDAGO'\n",
    "    SEMESTER_TYPE = 'zz_x_HIVERETE=&ww_x_HIVERETE'\n",
    "    SUFFIX = 'dummy=ok'\n",
    "    \n",
    "    # Send HTTP GET to compile the form\n",
    "    query_url = ''.join([BASE, REPORT_MODEL, '&', ACAD_UNIT, '=', acad_unit, '&', ACAD_YEAR, '=', acad_year, \n",
    "                        '&', SEMESTER, '=', semester, '&', SEMESTER_TYPE, '=', semester_type, '&', SUFFIX])\n",
    "    r = requests.get(query_url)\n",
    "    html_doc = r.text\n",
    "    soup = BeautifulSoup(html_doc, 'html.parser')\n",
    "    \n",
    "    # Extract the GIS parameter\n",
    "    generated_links = soup.find_all(\"a\", attrs={\"class\": \"ww_x_GPS\"})\n",
    "    onclick_values = [link.attrs['onclick'] for link in generated_links]\n",
    "    gps_value = None\n",
    "    for gps in onclick_values:\n",
    "        report_number = gps.split(\"loadReport('ww_x_GPS=\")[1].split(\"');return\")[0]\n",
    "        if report_number is not '-1':\n",
    "            gps_value = report_number\n",
    "    \n",
    "    if gps_value == None:\n",
    "        return None\n",
    "    \n",
    "    # Query URL strings\n",
    "    BASE = 'http://isa.epfl.ch/imoniteur_ISAP/!GEDPUBLICREPORTS.html?'\n",
    "    GPS = 'ww_x_GPS'\n",
    "    REPORT_MODEL = 'ww_i_reportModel=133685247&ww_i_reportModelXsl=133685270'\n",
    "    ACAD_UNIT = 'ww_x_UNITE_ACAD'\n",
    "    ACAD_YEAR  = 'ww_x_PERIODE_ACAD'\n",
    "    SEMESTER = 'ww_x_PERIODE_PEDAGO'\n",
    "    SEMESTER_TYPE = 'ww_x_HIVERETE'\n",
    "    \n",
    "    # Send HTTP GET for the page containing information for the requested semester\n",
    "    page_url = ''.join([BASE, GPS, '=', gps_value, '&', REPORT_MODEL, '&', ACAD_UNIT, '=', acad_unit, '&',\n",
    "                        ACAD_YEAR, '=', acad_year, '&', SEMESTER, '=', semester, '&', SEMESTER_TYPE, '=', semester_type])\n",
    "    r = requests.get(page_url)\n",
    "    return r.text"
   ]
  },
  {
   "cell_type": "markdown",
   "metadata": {},
   "source": [
    "The following function returns a DataFrame from an HTML page containing the table for a given semester."
   ]
  },
  {
   "cell_type": "code",
   "execution_count": 14,
   "metadata": {
    "collapsed": true
   },
   "outputs": [],
   "source": [
    "def get_frame_from_html(html_doc):\n",
    "    \n",
    "    # Adapted from: http://nbviewer.jupyter.org/github/chrisalbon/code_py/blob/master/beautiful_soup_scrape_table.ipynb\n",
    "\n",
    "    # Create four variables to store the scraped data in\n",
    "    name = []\n",
    "    status = []\n",
    "    sciper = []\n",
    "    sex = []\n",
    "    \n",
    "    soup = BeautifulSoup(html_doc, 'html.parser')\n",
    "    table = soup.find(\"table\")\n",
    "\n",
    "    # Find all the <tr> tag pairs, skip the first two, then for each.\n",
    "    for row in table.find_all('tr')[2:]:\n",
    "        # Create a variable of all the <td> tag pairs in each <tr> tag pair\n",
    "        col = row.find_all('td')\n",
    "\n",
    "        column_name = col[1].string.strip()\n",
    "        name.append(column_name)\n",
    "\n",
    "        column_status = col[-5].string.strip()\n",
    "        status.append(column_status)\n",
    "\n",
    "        column_sciper = col[-2].string.strip()\n",
    "        sciper.append(column_sciper)\n",
    "    \n",
    "        column_sex = col[0].string.strip()\n",
    "        if 'Monsieur' in column_sex:\n",
    "            sex.append('M')\n",
    "        else:\n",
    "            sex.append('F')\n",
    "\n",
    "    # Create a variable of the value of the columns\n",
    "    columns = {'name': name, 'status': status, 'sex':sex}\n",
    "\n",
    "    # Create a dataframe from the columns variable\n",
    "    df = pd.DataFrame(columns, index=sciper)\n",
    "    df.index.name = 'sciper'\n",
    "    return df"
   ]
  },
  {
   "cell_type": "markdown",
   "metadata": {},
   "source": [
    "Finally, the following function combines the two previous ones to return basic information for a particular semester and academic year."
   ]
  },
  {
   "cell_type": "code",
   "execution_count": 15,
   "metadata": {
    "collapsed": true
   },
   "outputs": [],
   "source": [
    "def get_basic_info(acad_unit, acad_year, semester, semester_type):\n",
    "    html_doc = get_html_page(acad_unit, acad_year, semester, semester_type)\n",
    "    df = get_frame_from_html(html_doc)\n",
    "    return df"
   ]
  },
  {
   "cell_type": "code",
   "execution_count": 16,
   "metadata": {
    "collapsed": false
   },
   "outputs": [],
   "source": [
    "df = get_basic_info(acad_units.Code['Informatique'], acad_years.Code['2016-2017'], semesters.Code['Bachelor semestre 6'], 'null')"
   ]
  },
  {
   "cell_type": "code",
   "execution_count": 17,
   "metadata": {
    "collapsed": false
   },
   "outputs": [
    {
     "data": {
      "text/html": [
       "<div>\n",
       "<table border=\"1\" class=\"dataframe\">\n",
       "  <thead>\n",
       "    <tr style=\"text-align: right;\">\n",
       "      <th></th>\n",
       "      <th>name</th>\n",
       "      <th>sex</th>\n",
       "      <th>status</th>\n",
       "    </tr>\n",
       "    <tr>\n",
       "      <th>sciper</th>\n",
       "      <th></th>\n",
       "      <th></th>\n",
       "      <th></th>\n",
       "    </tr>\n",
       "  </thead>\n",
       "  <tbody>\n",
       "    <tr>\n",
       "      <th>246671</th>\n",
       "      <td>Abate Bryan Jeremy</td>\n",
       "      <td>M</td>\n",
       "      <td>Congé</td>\n",
       "    </tr>\n",
       "    <tr>\n",
       "      <th>251759</th>\n",
       "      <td>Alami-Idrissi Ali</td>\n",
       "      <td>M</td>\n",
       "      <td>Congé</td>\n",
       "    </tr>\n",
       "    <tr>\n",
       "      <th>249498</th>\n",
       "      <td>Aoun Leonardo</td>\n",
       "      <td>M</td>\n",
       "      <td>Congé</td>\n",
       "    </tr>\n",
       "    <tr>\n",
       "      <th>234551</th>\n",
       "      <td>Bachmann Roman Christian</td>\n",
       "      <td>M</td>\n",
       "      <td>Congé</td>\n",
       "    </tr>\n",
       "    <tr>\n",
       "      <th>247328</th>\n",
       "      <td>Beck Johannes Magnus</td>\n",
       "      <td>M</td>\n",
       "      <td>Congé</td>\n",
       "    </tr>\n",
       "    <tr>\n",
       "      <th>251758</th>\n",
       "      <td>Benlalah Ali</td>\n",
       "      <td>M</td>\n",
       "      <td>Congé</td>\n",
       "    </tr>\n",
       "    <tr>\n",
       "      <th>250300</th>\n",
       "      <td>Bovel Matthieu Alexandre</td>\n",
       "      <td>M</td>\n",
       "      <td>Congé</td>\n",
       "    </tr>\n",
       "    <tr>\n",
       "      <th>249954</th>\n",
       "      <td>Burgelin Clément Louis Alexandre</td>\n",
       "      <td>M</td>\n",
       "      <td>Congé</td>\n",
       "    </tr>\n",
       "    <tr>\n",
       "      <th>249996</th>\n",
       "      <td>Coudert Rémi Edouard</td>\n",
       "      <td>M</td>\n",
       "      <td>Congé</td>\n",
       "    </tr>\n",
       "    <tr>\n",
       "      <th>239489</th>\n",
       "      <td>Evrova Gabriela</td>\n",
       "      <td>F</td>\n",
       "      <td>Congé</td>\n",
       "    </tr>\n",
       "  </tbody>\n",
       "</table>\n",
       "</div>"
      ],
      "text/plain": [
       "                                    name sex status\n",
       "sciper                                             \n",
       "246671                Abate Bryan Jeremy   M  Congé\n",
       "251759                 Alami-Idrissi Ali   M  Congé\n",
       "249498                     Aoun Leonardo   M  Congé\n",
       "234551          Bachmann Roman Christian   M  Congé\n",
       "247328              Beck Johannes Magnus   M  Congé\n",
       "251758                      Benlalah Ali   M  Congé\n",
       "250300          Bovel Matthieu Alexandre   M  Congé\n",
       "249954  Burgelin Clément Louis Alexandre   M  Congé\n",
       "249996              Coudert Rémi Edouard   M  Congé\n",
       "239489                   Evrova Gabriela   F  Congé"
      ]
     },
     "execution_count": 17,
     "metadata": {},
     "output_type": "execute_result"
    }
   ],
   "source": [
    "df.head(10)"
   ]
  },
  {
   "cell_type": "markdown",
   "metadata": {},
   "source": [
    "<hr>\n",
    "<hr>"
   ]
  },
  {
   "cell_type": "markdown",
   "metadata": {},
   "source": [
    "# Assignment 1"
   ]
  },
  {
   "cell_type": "markdown",
   "metadata": {},
   "source": [
    "_Obtain all the data for the Bachelor students, starting from 2007.<br>Keep only the students for which you have an entry for both `Bachelor semestre 1` and `Bachelor semestre 6`._"
   ]
  },
  {
   "cell_type": "markdown",
   "metadata": {},
   "source": [
    "We start by collecting all the students that are in `Bachelor semestre 6` and `Bachelor semestre 5`, except for \n",
    "- the earliest two years since we would not find any matches for them in `Bachelor semestre 1`\n",
    "- the current year `Bachelor semestre 6` does not exist yet\n",
    "\n",
    "\n",
    "Note that we also collect information on `Bachelor semestre 5` since some students might have take more than 6 semesters to finish their BSc and EPFL replaces them in `Bachelor semestre 5` (and `Bachelor semestre 6`, if needed).<br>\n",
    "Moreover, we use the information contained in `Bachelor semestre 5` and `Bachelor semestre 6` for a.y. `2016-2017` to see if there are students who were already doing `Bachelor semestre 6` in `2015-2016`. They are still BSc students and we do not know when they will finish. Thus, we remove them from our statistics.\n",
    "\n",
    "\n",
    "Finally, we ignore semesters `Bachelor semestre 5b` and `Bachelor semestre 6b` since they contain no value."
   ]
  },
  {
   "cell_type": "markdown",
   "metadata": {
    "collapsed": true
   },
   "source": [
    "<hr>\n",
    "By using the functions that we implemented in the previous section, we create a DataFrame containing all the information for Informatique, Bachelors from 2007.<br>\n",
    "We do this in two steps:\n",
    "1. we create a dictionary of DataFrame's containing all the information for each semester;\n",
    "2. we concatenate them together into a new DataFrame"
   ]
  },
  {
   "cell_type": "code",
   "execution_count": 18,
   "metadata": {
    "collapsed": false
   },
   "outputs": [],
   "source": [
    "# all_bachelors_dict = dict()\n",
    "# for i in range(len(acad_years)):\n",
    "#     for j in range(len(semesters)):\n",
    "#         year = acad_years.index[i]\n",
    "#         sem = semesters.index[j]\n",
    "#         if(int(year.split('-')[0]) >=2007 and sem.startswith('Bach') and not sem.endswith('b')):\n",
    "#             all_bachelors_dict[(year, sem)] = get_basic_info(acad_units.Code['Informatique'], acad_years.Code[year], semesters.Code[sem])"
   ]
  },
  {
   "cell_type": "code",
   "execution_count": 19,
   "metadata": {
    "collapsed": false
   },
   "outputs": [],
   "source": [
    "#all_bachelors_data = pd.concat(all_bachelors_dict)\n",
    "#all_bachelors_data.index.names = ['year', 'semester', 'sciper']\n",
    "#all_bachelors_data.head()"
   ]
  },
  {
   "cell_type": "code",
   "execution_count": 20,
   "metadata": {
    "collapsed": true
   },
   "outputs": [],
   "source": [
    "#all_bachelors_data.to_pickle(\"all_bachelors_data\")"
   ]
  },
  {
   "cell_type": "markdown",
   "metadata": {},
   "source": [
    "Note that the above cells don't need to be executed since the data is retrieved from pickle for bandwidth and time considerations."
   ]
  },
  {
   "cell_type": "code",
   "execution_count": 21,
   "metadata": {
    "collapsed": false
   },
   "outputs": [
    {
     "data": {
      "text/html": [
       "<div>\n",
       "<table border=\"1\" class=\"dataframe\">\n",
       "  <thead>\n",
       "    <tr style=\"text-align: right;\">\n",
       "      <th></th>\n",
       "      <th></th>\n",
       "      <th></th>\n",
       "      <th>name</th>\n",
       "      <th>sex</th>\n",
       "      <th>status</th>\n",
       "    </tr>\n",
       "    <tr>\n",
       "      <th>year</th>\n",
       "      <th>semester</th>\n",
       "      <th>sciper</th>\n",
       "      <th></th>\n",
       "      <th></th>\n",
       "      <th></th>\n",
       "    </tr>\n",
       "  </thead>\n",
       "  <tbody>\n",
       "    <tr>\n",
       "      <th rowspan=\"5\" valign=\"top\">2007-2008</th>\n",
       "      <th rowspan=\"5\" valign=\"top\">Bachelor semestre 1</th>\n",
       "      <th>169569</th>\n",
       "      <td>Arévalo Christian</td>\n",
       "      <td>M</td>\n",
       "      <td>Présent</td>\n",
       "    </tr>\n",
       "    <tr>\n",
       "      <th>174905</th>\n",
       "      <td>Aubelle Flavien</td>\n",
       "      <td>M</td>\n",
       "      <td>Présent</td>\n",
       "    </tr>\n",
       "    <tr>\n",
       "      <th>173922</th>\n",
       "      <td>Badoud Morgan</td>\n",
       "      <td>M</td>\n",
       "      <td>Présent</td>\n",
       "    </tr>\n",
       "    <tr>\n",
       "      <th>179406</th>\n",
       "      <td>Baeriswyl Jonathan</td>\n",
       "      <td>M</td>\n",
       "      <td>Présent</td>\n",
       "    </tr>\n",
       "    <tr>\n",
       "      <th>179428</th>\n",
       "      <td>Barroco Michael</td>\n",
       "      <td>M</td>\n",
       "      <td>Présent</td>\n",
       "    </tr>\n",
       "  </tbody>\n",
       "</table>\n",
       "</div>"
      ],
      "text/plain": [
       "                                                    name sex   status\n",
       "year      semester            sciper                                 \n",
       "2007-2008 Bachelor semestre 1 169569   Arévalo Christian   M  Présent\n",
       "                              174905     Aubelle Flavien   M  Présent\n",
       "                              173922       Badoud Morgan   M  Présent\n",
       "                              179406  Baeriswyl Jonathan   M  Présent\n",
       "                              179428     Barroco Michael   M  Présent"
      ]
     },
     "execution_count": 21,
     "metadata": {},
     "output_type": "execute_result"
    }
   ],
   "source": [
    "all_bachelors_data = pd.read_pickle(\"all_bachelors_data\")\n",
    "all_bachelors_data.head()"
   ]
  },
  {
   "cell_type": "markdown",
   "metadata": {},
   "source": [
    "We combine the entries with the same sciper to get the information for each unique student, and find that we have 1476 total students in the dataset."
   ]
  },
  {
   "cell_type": "code",
   "execution_count": 22,
   "metadata": {
    "collapsed": false
   },
   "outputs": [
    {
     "data": {
      "text/plain": [
       "1476"
      ]
     },
     "execution_count": 22,
     "metadata": {},
     "output_type": "execute_result"
    }
   ],
   "source": [
    "all_scipers = all_bachelors_data.index.get_level_values('sciper')\n",
    "unique_scipers = all_scipers.unique() \n",
    "number_unique = unique_scipers.size\n",
    "number_unique"
   ]
  },
  {
   "cell_type": "code",
   "execution_count": 23,
   "metadata": {
    "collapsed": false,
    "scrolled": true
   },
   "outputs": [
    {
     "data": {
      "text/plain": [
       "year       semester           \n",
       "2007-2008  Bachelor semestre 1    M\n",
       "           Bachelor semestre 2    M\n",
       "2009-2010  Bachelor semestre 5    M\n",
       "           Bachelor semestre 6    M\n",
       "Name: sex, dtype: object"
      ]
     },
     "execution_count": 23,
     "metadata": {},
     "output_type": "execute_result"
    }
   ],
   "source": [
    "# Example for student having sciper 169569\n",
    "x = all_bachelors_data.xs('169569',level='sciper')['sex']\n",
    "x"
   ]
  },
  {
   "cell_type": "markdown",
   "metadata": {},
   "source": [
    "We get the first occurence of each student in the data"
   ]
  },
  {
   "cell_type": "code",
   "execution_count": 24,
   "metadata": {
    "collapsed": true
   },
   "outputs": [],
   "source": [
    "def get_first_occurence(unique_scipers, data):\n",
    "    first_year = [int(data.xs(sciper,level='sciper').index[0][0].split(\"-\")[0]) for sciper in unique_scipers]\n",
    "    first_sem =  [int(data.xs(sciper,level='sciper').index[0][1].split(\" \")[-1]) for sciper in unique_scipers]\n",
    "    columns = {'first_semester':first_sem, 'first_year':first_year}\n",
    "    df = pd.DataFrame(columns, index=unique_scipers)\n",
    "    df.index.name = 'sciper'\n",
    "    return df"
   ]
  },
  {
   "cell_type": "code",
   "execution_count": 25,
   "metadata": {
    "collapsed": false
   },
   "outputs": [
    {
     "data": {
      "text/html": [
       "<div>\n",
       "<table border=\"1\" class=\"dataframe\">\n",
       "  <thead>\n",
       "    <tr style=\"text-align: right;\">\n",
       "      <th></th>\n",
       "      <th>first_semester</th>\n",
       "      <th>first_year</th>\n",
       "    </tr>\n",
       "    <tr>\n",
       "      <th>sciper</th>\n",
       "      <th></th>\n",
       "      <th></th>\n",
       "    </tr>\n",
       "  </thead>\n",
       "  <tbody>\n",
       "    <tr>\n",
       "      <th>169569</th>\n",
       "      <td>1</td>\n",
       "      <td>2007</td>\n",
       "    </tr>\n",
       "    <tr>\n",
       "      <th>174905</th>\n",
       "      <td>1</td>\n",
       "      <td>2007</td>\n",
       "    </tr>\n",
       "    <tr>\n",
       "      <th>173922</th>\n",
       "      <td>1</td>\n",
       "      <td>2007</td>\n",
       "    </tr>\n",
       "    <tr>\n",
       "      <th>179406</th>\n",
       "      <td>1</td>\n",
       "      <td>2007</td>\n",
       "    </tr>\n",
       "    <tr>\n",
       "      <th>179428</th>\n",
       "      <td>1</td>\n",
       "      <td>2007</td>\n",
       "    </tr>\n",
       "  </tbody>\n",
       "</table>\n",
       "</div>"
      ],
      "text/plain": [
       "        first_semester  first_year\n",
       "sciper                            \n",
       "169569               1        2007\n",
       "174905               1        2007\n",
       "173922               1        2007\n",
       "179406               1        2007\n",
       "179428               1        2007"
      ]
     },
     "execution_count": 25,
     "metadata": {},
     "output_type": "execute_result"
    }
   ],
   "source": [
    "first_occurences = get_first_occurence(unique_scipers, all_bachelors_data)\n",
    "first_occurences.head()"
   ]
  },
  {
   "cell_type": "markdown",
   "metadata": {},
   "source": [
    "Similarly, we get the last occurences of each student in the data."
   ]
  },
  {
   "cell_type": "code",
   "execution_count": 26,
   "metadata": {
    "collapsed": true
   },
   "outputs": [],
   "source": [
    "def get_last_occurence(unique_scipers, data):\n",
    "    last_year = [int(data.xs(sciper,level='sciper').index[-1][0].split(\"-\")[0]) for sciper in unique_scipers]\n",
    "    last_sem =  [int(data.xs(sciper,level='sciper').index[-1][1].split(\" \")[-1]) for sciper in unique_scipers]\n",
    "    sex = [data.xs(sciper,level='sciper')['sex'][0] for sciper in unique_scipers]\n",
    "    columns = {'last_semester':last_sem, 'last_year':last_year, 'sex':sex}\n",
    "    df = pd.DataFrame(columns, index=unique_scipers)\n",
    "    df.index.name = 'sciper'\n",
    "    return df"
   ]
  },
  {
   "cell_type": "code",
   "execution_count": 27,
   "metadata": {
    "collapsed": false
   },
   "outputs": [
    {
     "data": {
      "text/html": [
       "<div>\n",
       "<table border=\"1\" class=\"dataframe\">\n",
       "  <thead>\n",
       "    <tr style=\"text-align: right;\">\n",
       "      <th></th>\n",
       "      <th>last_semester</th>\n",
       "      <th>last_year</th>\n",
       "      <th>sex</th>\n",
       "    </tr>\n",
       "    <tr>\n",
       "      <th>sciper</th>\n",
       "      <th></th>\n",
       "      <th></th>\n",
       "      <th></th>\n",
       "    </tr>\n",
       "  </thead>\n",
       "  <tbody>\n",
       "    <tr>\n",
       "      <th>169569</th>\n",
       "      <td>6</td>\n",
       "      <td>2009</td>\n",
       "      <td>M</td>\n",
       "    </tr>\n",
       "    <tr>\n",
       "      <th>174905</th>\n",
       "      <td>6</td>\n",
       "      <td>2011</td>\n",
       "      <td>M</td>\n",
       "    </tr>\n",
       "    <tr>\n",
       "      <th>173922</th>\n",
       "      <td>5</td>\n",
       "      <td>2009</td>\n",
       "      <td>M</td>\n",
       "    </tr>\n",
       "    <tr>\n",
       "      <th>179406</th>\n",
       "      <td>6</td>\n",
       "      <td>2010</td>\n",
       "      <td>M</td>\n",
       "    </tr>\n",
       "    <tr>\n",
       "      <th>179428</th>\n",
       "      <td>6</td>\n",
       "      <td>2010</td>\n",
       "      <td>M</td>\n",
       "    </tr>\n",
       "  </tbody>\n",
       "</table>\n",
       "</div>"
      ],
      "text/plain": [
       "        last_semester  last_year sex\n",
       "sciper                              \n",
       "169569              6       2009   M\n",
       "174905              6       2011   M\n",
       "173922              5       2009   M\n",
       "179406              6       2010   M\n",
       "179428              6       2010   M"
      ]
     },
     "execution_count": 27,
     "metadata": {},
     "output_type": "execute_result"
    }
   ],
   "source": [
    "last_occurences = get_last_occurence(unique_scipers, all_bachelors_data)\n",
    "last_occurences.head()"
   ]
  },
  {
   "cell_type": "code",
   "execution_count": 28,
   "metadata": {
    "collapsed": false
   },
   "outputs": [
    {
     "data": {
      "text/html": [
       "<div>\n",
       "<table border=\"1\" class=\"dataframe\">\n",
       "  <thead>\n",
       "    <tr style=\"text-align: right;\">\n",
       "      <th></th>\n",
       "      <th>last_semester</th>\n",
       "      <th>last_year</th>\n",
       "      <th>sex</th>\n",
       "    </tr>\n",
       "    <tr>\n",
       "      <th>sciper</th>\n",
       "      <th></th>\n",
       "      <th></th>\n",
       "      <th></th>\n",
       "    </tr>\n",
       "  </thead>\n",
       "  <tbody>\n",
       "    <tr>\n",
       "      <th>273839</th>\n",
       "      <td>3</td>\n",
       "      <td>2016</td>\n",
       "      <td>M</td>\n",
       "    </tr>\n",
       "    <tr>\n",
       "      <th>250083</th>\n",
       "      <td>4</td>\n",
       "      <td>2016</td>\n",
       "      <td>M</td>\n",
       "    </tr>\n",
       "    <tr>\n",
       "      <th>237697</th>\n",
       "      <td>4</td>\n",
       "      <td>2016</td>\n",
       "      <td>M</td>\n",
       "    </tr>\n",
       "    <tr>\n",
       "      <th>260552</th>\n",
       "      <td>3</td>\n",
       "      <td>2016</td>\n",
       "      <td>M</td>\n",
       "    </tr>\n",
       "    <tr>\n",
       "      <th>247246</th>\n",
       "      <td>3</td>\n",
       "      <td>2016</td>\n",
       "      <td>M</td>\n",
       "    </tr>\n",
       "  </tbody>\n",
       "</table>\n",
       "</div>"
      ],
      "text/plain": [
       "        last_semester  last_year sex\n",
       "sciper                              \n",
       "273839              3       2016   M\n",
       "250083              4       2016   M\n",
       "237697              4       2016   M\n",
       "260552              3       2016   M\n",
       "247246              3       2016   M"
      ]
     },
     "execution_count": 28,
     "metadata": {},
     "output_type": "execute_result"
    }
   ],
   "source": [
    "last_occurences.tail()"
   ]
  },
  {
   "cell_type": "markdown",
   "metadata": {},
   "source": [
    "Concatenating first and last occurences into one dataframe."
   ]
  },
  {
   "cell_type": "code",
   "execution_count": 29,
   "metadata": {
    "collapsed": false
   },
   "outputs": [
    {
     "data": {
      "text/html": [
       "<div>\n",
       "<table border=\"1\" class=\"dataframe\">\n",
       "  <thead>\n",
       "    <tr style=\"text-align: right;\">\n",
       "      <th></th>\n",
       "      <th>first_semester</th>\n",
       "      <th>first_year</th>\n",
       "      <th>last_semester</th>\n",
       "      <th>last_year</th>\n",
       "      <th>sex</th>\n",
       "    </tr>\n",
       "    <tr>\n",
       "      <th>sciper</th>\n",
       "      <th></th>\n",
       "      <th></th>\n",
       "      <th></th>\n",
       "      <th></th>\n",
       "      <th></th>\n",
       "    </tr>\n",
       "  </thead>\n",
       "  <tbody>\n",
       "    <tr>\n",
       "      <th>169569</th>\n",
       "      <td>1</td>\n",
       "      <td>2007</td>\n",
       "      <td>6</td>\n",
       "      <td>2009</td>\n",
       "      <td>M</td>\n",
       "    </tr>\n",
       "    <tr>\n",
       "      <th>174905</th>\n",
       "      <td>1</td>\n",
       "      <td>2007</td>\n",
       "      <td>6</td>\n",
       "      <td>2011</td>\n",
       "      <td>M</td>\n",
       "    </tr>\n",
       "    <tr>\n",
       "      <th>173922</th>\n",
       "      <td>1</td>\n",
       "      <td>2007</td>\n",
       "      <td>5</td>\n",
       "      <td>2009</td>\n",
       "      <td>M</td>\n",
       "    </tr>\n",
       "    <tr>\n",
       "      <th>179406</th>\n",
       "      <td>1</td>\n",
       "      <td>2007</td>\n",
       "      <td>6</td>\n",
       "      <td>2010</td>\n",
       "      <td>M</td>\n",
       "    </tr>\n",
       "    <tr>\n",
       "      <th>179428</th>\n",
       "      <td>1</td>\n",
       "      <td>2007</td>\n",
       "      <td>6</td>\n",
       "      <td>2010</td>\n",
       "      <td>M</td>\n",
       "    </tr>\n",
       "  </tbody>\n",
       "</table>\n",
       "</div>"
      ],
      "text/plain": [
       "        first_semester  first_year  last_semester  last_year sex\n",
       "sciper                                                          \n",
       "169569               1        2007              6       2009   M\n",
       "174905               1        2007              6       2011   M\n",
       "173922               1        2007              5       2009   M\n",
       "179406               1        2007              6       2010   M\n",
       "179428               1        2007              6       2010   M"
      ]
     },
     "execution_count": 29,
     "metadata": {},
     "output_type": "execute_result"
    }
   ],
   "source": [
    "first_last_df = pd.concat([first_occurences, last_occurences], join='inner', axis=1)\n",
    "first_last_df.head()"
   ]
  },
  {
   "cell_type": "code",
   "execution_count": 30,
   "metadata": {
    "collapsed": false,
    "scrolled": true
   },
   "outputs": [
    {
     "data": {
      "text/html": [
       "<div>\n",
       "<table border=\"1\" class=\"dataframe\">\n",
       "  <thead>\n",
       "    <tr style=\"text-align: right;\">\n",
       "      <th></th>\n",
       "      <th>first_semester</th>\n",
       "      <th>first_year</th>\n",
       "      <th>last_semester</th>\n",
       "      <th>last_year</th>\n",
       "      <th>sex</th>\n",
       "    </tr>\n",
       "    <tr>\n",
       "      <th>sciper</th>\n",
       "      <th></th>\n",
       "      <th></th>\n",
       "      <th></th>\n",
       "      <th></th>\n",
       "      <th></th>\n",
       "    </tr>\n",
       "  </thead>\n",
       "  <tbody>\n",
       "    <tr>\n",
       "      <th>273839</th>\n",
       "      <td>3</td>\n",
       "      <td>2016</td>\n",
       "      <td>3</td>\n",
       "      <td>2016</td>\n",
       "      <td>M</td>\n",
       "    </tr>\n",
       "    <tr>\n",
       "      <th>250083</th>\n",
       "      <td>3</td>\n",
       "      <td>2016</td>\n",
       "      <td>4</td>\n",
       "      <td>2016</td>\n",
       "      <td>M</td>\n",
       "    </tr>\n",
       "    <tr>\n",
       "      <th>237697</th>\n",
       "      <td>3</td>\n",
       "      <td>2016</td>\n",
       "      <td>4</td>\n",
       "      <td>2016</td>\n",
       "      <td>M</td>\n",
       "    </tr>\n",
       "    <tr>\n",
       "      <th>260552</th>\n",
       "      <td>3</td>\n",
       "      <td>2016</td>\n",
       "      <td>3</td>\n",
       "      <td>2016</td>\n",
       "      <td>M</td>\n",
       "    </tr>\n",
       "    <tr>\n",
       "      <th>247246</th>\n",
       "      <td>3</td>\n",
       "      <td>2016</td>\n",
       "      <td>3</td>\n",
       "      <td>2016</td>\n",
       "      <td>M</td>\n",
       "    </tr>\n",
       "  </tbody>\n",
       "</table>\n",
       "</div>"
      ],
      "text/plain": [
       "        first_semester  first_year  last_semester  last_year sex\n",
       "sciper                                                          \n",
       "273839               3        2016              3       2016   M\n",
       "250083               3        2016              4       2016   M\n",
       "237697               3        2016              4       2016   M\n",
       "260552               3        2016              3       2016   M\n",
       "247246               3        2016              3       2016   M"
      ]
     },
     "execution_count": 30,
     "metadata": {},
     "output_type": "execute_result"
    }
   ],
   "source": [
    "first_last_df.tail()"
   ]
  },
  {
   "cell_type": "code",
   "execution_count": 31,
   "metadata": {
    "collapsed": false
   },
   "outputs": [
    {
     "data": {
      "text/plain": [
       "1476"
      ]
     },
     "execution_count": 31,
     "metadata": {},
     "output_type": "execute_result"
    }
   ],
   "source": [
    "first_last_df.shape[0]"
   ]
  },
  {
   "cell_type": "markdown",
   "metadata": {},
   "source": [
    "**Assumption:** We now pick only those students whose `last_semester` is 5 or 6. Other students are assumed to have dropped out or not graduated yet, so we drop them from our statistic. <br>\n",
    "This leaves us with 658 students out of the original 1476. This makes sense since the number of registrants in EPFL has been steadily increasing, so the number of students currently studying at EPFL, compared to 818 that have started and graduated since 2007-2008."
   ]
  },
  {
   "cell_type": "code",
   "execution_count": 32,
   "metadata": {
    "collapsed": false
   },
   "outputs": [
    {
     "data": {
      "text/plain": [
       "658"
      ]
     },
     "execution_count": 32,
     "metadata": {},
     "output_type": "execute_result"
    }
   ],
   "source": [
    "final_year_idx = [sem >= 5 for sem in first_last_df.last_semester]\n",
    "in_final_year_df = first_last_df[final_year_idx]\n",
    "in_final_year_df.shape[0]"
   ]
  },
  {
   "cell_type": "code",
   "execution_count": 33,
   "metadata": {
    "collapsed": false
   },
   "outputs": [
    {
     "data": {
      "text/html": [
       "<div>\n",
       "<table border=\"1\" class=\"dataframe\">\n",
       "  <thead>\n",
       "    <tr style=\"text-align: right;\">\n",
       "      <th></th>\n",
       "      <th>first_semester</th>\n",
       "      <th>first_year</th>\n",
       "      <th>last_semester</th>\n",
       "      <th>last_year</th>\n",
       "      <th>sex</th>\n",
       "    </tr>\n",
       "    <tr>\n",
       "      <th>sciper</th>\n",
       "      <th></th>\n",
       "      <th></th>\n",
       "      <th></th>\n",
       "      <th></th>\n",
       "      <th></th>\n",
       "    </tr>\n",
       "  </thead>\n",
       "  <tbody>\n",
       "    <tr>\n",
       "      <th>169569</th>\n",
       "      <td>1</td>\n",
       "      <td>2007</td>\n",
       "      <td>6</td>\n",
       "      <td>2009</td>\n",
       "      <td>M</td>\n",
       "    </tr>\n",
       "    <tr>\n",
       "      <th>174905</th>\n",
       "      <td>1</td>\n",
       "      <td>2007</td>\n",
       "      <td>6</td>\n",
       "      <td>2011</td>\n",
       "      <td>M</td>\n",
       "    </tr>\n",
       "    <tr>\n",
       "      <th>173922</th>\n",
       "      <td>1</td>\n",
       "      <td>2007</td>\n",
       "      <td>5</td>\n",
       "      <td>2009</td>\n",
       "      <td>M</td>\n",
       "    </tr>\n",
       "    <tr>\n",
       "      <th>179406</th>\n",
       "      <td>1</td>\n",
       "      <td>2007</td>\n",
       "      <td>6</td>\n",
       "      <td>2010</td>\n",
       "      <td>M</td>\n",
       "    </tr>\n",
       "    <tr>\n",
       "      <th>179428</th>\n",
       "      <td>1</td>\n",
       "      <td>2007</td>\n",
       "      <td>6</td>\n",
       "      <td>2010</td>\n",
       "      <td>M</td>\n",
       "    </tr>\n",
       "  </tbody>\n",
       "</table>\n",
       "</div>"
      ],
      "text/plain": [
       "        first_semester  first_year  last_semester  last_year sex\n",
       "sciper                                                          \n",
       "169569               1        2007              6       2009   M\n",
       "174905               1        2007              6       2011   M\n",
       "173922               1        2007              5       2009   M\n",
       "179406               1        2007              6       2010   M\n",
       "179428               1        2007              6       2010   M"
      ]
     },
     "execution_count": 33,
     "metadata": {},
     "output_type": "execute_result"
    }
   ],
   "source": [
    "in_final_year_df.head()"
   ]
  },
  {
   "cell_type": "markdown",
   "metadata": {},
   "source": [
    "Let's have a look at how first_semester is distributed"
   ]
  },
  {
   "cell_type": "code",
   "execution_count": 34,
   "metadata": {
    "collapsed": false
   },
   "outputs": [
    {
     "data": {
      "text/plain": [
       "1    516\n",
       "5    100\n",
       "3     38\n",
       "4      3\n",
       "6      1\n",
       "Name: first_semester, dtype: int64"
      ]
     },
     "execution_count": 34,
     "metadata": {},
     "output_type": "execute_result"
    }
   ],
   "source": [
    "in_final_year_df.first_semester.value_counts()"
   ]
  },
  {
   "cell_type": "markdown",
   "metadata": {},
   "source": [
    "**Assumption:** We see that there are students whose first semester is different from 1. Students having first semester as 5 or 6 are probably exchange students. Moreover, for all of the students who have first semester different than 1, we cannot provide reliable statistics (i.e. by just adding the remaining number of semesters down to the first one) because they might have taken more than one year to pass their first Bachelor year.\n",
    "Considering this and the fact that they are number is relatively small compared to the ones having as first semester 1, we decide to drop them and provide the reader with reliable statistics.<br>\n",
    "\n",
    "This leaves us with 516 students in the dataset."
   ]
  },
  {
   "cell_type": "code",
   "execution_count": 35,
   "metadata": {
    "collapsed": false
   },
   "outputs": [
    {
     "data": {
      "text/plain": [
       "516"
      ]
     },
     "execution_count": 35,
     "metadata": {},
     "output_type": "execute_result"
    }
   ],
   "source": [
    "first_semester_is_1_idx = [sem == 1 for sem in in_final_year_df.first_semester]\n",
    "first_semester_is_1_df = in_final_year_df[first_semester_is_1_idx]\n",
    "first_semester_is_1_df.shape[0]"
   ]
  },
  {
   "cell_type": "markdown",
   "metadata": {},
   "source": [
    "**Assmption:** Finally, in order to provide reliable statistics, we remove students who are doing their last year in 2016-2017 since we don't know whether they would actually graduate or not.<br>\n",
    "\n",
    "This leaves us with 405 students, to which we will apply our statistics."
   ]
  },
  {
   "cell_type": "code",
   "execution_count": 36,
   "metadata": {
    "collapsed": false
   },
   "outputs": [
    {
     "data": {
      "text/plain": [
       "405"
      ]
     },
     "execution_count": 36,
     "metadata": {},
     "output_type": "execute_result"
    }
   ],
   "source": [
    "already_graduated_idx = [year < 2016 for year in first_semester_is_1_df.last_year]\n",
    "final_df = first_semester_is_1_df[already_graduated_idx]\n",
    "final_df.shape[0]"
   ]
  },
  {
   "cell_type": "markdown",
   "metadata": {},
   "source": [
    "<hr>\n",
    "_Compute how many months it took each student to go from the first to the sixth semester._"
   ]
  },
  {
   "cell_type": "markdown",
   "metadata": {},
   "source": [
    "Here, we look at the year of the last occurence of that student, subtract from it the year of the first occurence, then add semesters to account for the students starting in Fall and finishing in Spring."
   ]
  },
  {
   "cell_type": "code",
   "execution_count": 37,
   "metadata": {
    "collapsed": false
   },
   "outputs": [],
   "source": [
    "def get_time_taken(student):\n",
    "    \"\"\"Return the number of semesters a student took to graduate\"\"\"\n",
    "    years = student['last_year'] - student['first_year']\n",
    "    if(student['last_semester'] == 6):\n",
    "        years += 0.5\n",
    "    if(student['first_semester'] == 1):\n",
    "        years += 0.5\n",
    "    return int(years * 2)"
   ]
  },
  {
   "cell_type": "code",
   "execution_count": 38,
   "metadata": {
    "collapsed": false
   },
   "outputs": [
    {
     "data": {
      "text/plain": [
       "sciper\n",
       "214058    5\n",
       "184921    5\n",
       "186942    5\n",
       "204820    5\n",
       "187001    5\n",
       "dtype: int64"
      ]
     },
     "execution_count": 38,
     "metadata": {},
     "output_type": "execute_result"
    }
   ],
   "source": [
    "time_taken = final_df.apply(get_time_taken, axis=1)\n",
    "time_taken.sort_values().head()"
   ]
  },
  {
   "cell_type": "code",
   "execution_count": 39,
   "metadata": {
    "collapsed": false
   },
   "outputs": [
    {
     "data": {
      "text/html": [
       "<div>\n",
       "<table border=\"1\" class=\"dataframe\">\n",
       "  <thead>\n",
       "    <tr style=\"text-align: right;\">\n",
       "      <th></th>\n",
       "      <th>first_semester</th>\n",
       "      <th>first_year</th>\n",
       "      <th>last_semester</th>\n",
       "      <th>last_year</th>\n",
       "      <th>sex</th>\n",
       "    </tr>\n",
       "    <tr>\n",
       "      <th>sciper</th>\n",
       "      <th></th>\n",
       "      <th></th>\n",
       "      <th></th>\n",
       "      <th></th>\n",
       "      <th></th>\n",
       "    </tr>\n",
       "  </thead>\n",
       "  <tbody>\n",
       "    <tr>\n",
       "      <th>214058</th>\n",
       "      <td>1</td>\n",
       "      <td>2011</td>\n",
       "      <td>5</td>\n",
       "      <td>2013</td>\n",
       "      <td>M</td>\n",
       "    </tr>\n",
       "  </tbody>\n",
       "</table>\n",
       "</div>"
      ],
      "text/plain": [
       "        first_semester  first_year  last_semester  last_year sex\n",
       "sciper                                                          \n",
       "214058               1        2011              5       2013   M"
      ]
     },
     "execution_count": 39,
     "metadata": {},
     "output_type": "execute_result"
    }
   ],
   "source": [
    "final_df[final_df.index == '214058']"
   ]
  },
  {
   "cell_type": "code",
   "execution_count": 40,
   "metadata": {
    "collapsed": false
   },
   "outputs": [
    {
     "data": {
      "text/plain": [
       "6     202\n",
       "8      71\n",
       "7      48\n",
       "5      35\n",
       "10     21\n",
       "9      17\n",
       "12      6\n",
       "11      4\n",
       "14      1\n",
       "dtype: int64"
      ]
     },
     "execution_count": 40,
     "metadata": {},
     "output_type": "execute_result"
    }
   ],
   "source": [
    "time_taken.value_counts()"
   ]
  },
  {
   "cell_type": "markdown",
   "metadata": {},
   "source": [
    "**Assumption:** Here, we see some inconsistency since 35 students seem to have graduated in 5 semesters, which is not possible at EPFL. <br>\n",
    "There are a few possible explanations for this: <br>\n",
    "1) In our analysis, we haven't removed students who have reached semester 5 but not 6. The student could have dropped out in their final year.<br>\n",
    "2) The student could have done their last semester at a different university."
   ]
  },
  {
   "cell_type": "code",
   "execution_count": 41,
   "metadata": {
    "collapsed": false
   },
   "outputs": [
    {
     "data": {
      "text/plain": [
       "370"
      ]
     },
     "execution_count": 41,
     "metadata": {},
     "output_type": "execute_result"
    }
   ],
   "source": [
    "in_at_least_6_semesters_idx = [t>=6 for t in time_taken.values]\n",
    "time_final = time_taken[in_at_least_6_semesters_idx]\n",
    "time_final.shape[0]"
   ]
  },
  {
   "cell_type": "markdown",
   "metadata": {},
   "source": [
    "We plot the histogram of the number of semesters taken to finish."
   ]
  },
  {
   "cell_type": "code",
   "execution_count": 42,
   "metadata": {
    "collapsed": false,
    "scrolled": true
   },
   "outputs": [
    {
     "data": {
      "text/plain": [
       "(array([ 202.,   48.,   71.,   17.,   21.,    4.,    6.,    1.]),\n",
       " array([  6.,   7.,   8.,   9.,  10.,  11.,  12.,  13.,  14.]),\n",
       " <a list of 8 Patch objects>)"
      ]
     },
     "execution_count": 42,
     "metadata": {},
     "output_type": "execute_result"
    },
    {
     "data": {
      "image/png": "[encoded data removed]",
      "text/plain": [
       "<matplotlib.figure.Figure at 0x7f2160600400>"
      ]
     },
     "metadata": {},
     "output_type": "display_data"
    }
   ],
   "source": [
    "plt.hist(time_final, bins=len(time_final.value_counts()))"
   ]
  },
  {
   "cell_type": "markdown",
   "metadata": {
    "collapsed": true
   },
   "source": [
    "<hr>\n",
    "_Partition the data between male and female students, and compute the average._"
   ]
  },
  {
   "cell_type": "code",
   "execution_count": 43,
   "metadata": {
    "collapsed": false
   },
   "outputs": [
    {
     "data": {
      "text/html": [
       "<div>\n",
       "<table border=\"1\" class=\"dataframe\">\n",
       "  <thead>\n",
       "    <tr style=\"text-align: right;\">\n",
       "      <th></th>\n",
       "      <th>first_semester</th>\n",
       "      <th>first_year</th>\n",
       "      <th>last_semester</th>\n",
       "      <th>last_year</th>\n",
       "      <th>sex</th>\n",
       "    </tr>\n",
       "    <tr>\n",
       "      <th>sciper</th>\n",
       "      <th></th>\n",
       "      <th></th>\n",
       "      <th></th>\n",
       "      <th></th>\n",
       "      <th></th>\n",
       "    </tr>\n",
       "  </thead>\n",
       "  <tbody>\n",
       "    <tr>\n",
       "      <th>169569</th>\n",
       "      <td>1</td>\n",
       "      <td>2007</td>\n",
       "      <td>6</td>\n",
       "      <td>2009</td>\n",
       "      <td>M</td>\n",
       "    </tr>\n",
       "    <tr>\n",
       "      <th>174905</th>\n",
       "      <td>1</td>\n",
       "      <td>2007</td>\n",
       "      <td>6</td>\n",
       "      <td>2011</td>\n",
       "      <td>M</td>\n",
       "    </tr>\n",
       "    <tr>\n",
       "      <th>173922</th>\n",
       "      <td>1</td>\n",
       "      <td>2007</td>\n",
       "      <td>5</td>\n",
       "      <td>2009</td>\n",
       "      <td>M</td>\n",
       "    </tr>\n",
       "    <tr>\n",
       "      <th>179406</th>\n",
       "      <td>1</td>\n",
       "      <td>2007</td>\n",
       "      <td>6</td>\n",
       "      <td>2010</td>\n",
       "      <td>M</td>\n",
       "    </tr>\n",
       "    <tr>\n",
       "      <th>179428</th>\n",
       "      <td>1</td>\n",
       "      <td>2007</td>\n",
       "      <td>6</td>\n",
       "      <td>2010</td>\n",
       "      <td>M</td>\n",
       "    </tr>\n",
       "  </tbody>\n",
       "</table>\n",
       "</div>"
      ],
      "text/plain": [
       "        first_semester  first_year  last_semester  last_year sex\n",
       "sciper                                                          \n",
       "169569               1        2007              6       2009   M\n",
       "174905               1        2007              6       2011   M\n",
       "173922               1        2007              5       2009   M\n",
       "179406               1        2007              6       2010   M\n",
       "179428               1        2007              6       2010   M"
      ]
     },
     "execution_count": 43,
     "metadata": {},
     "output_type": "execute_result"
    }
   ],
   "source": [
    "guys_data = final_df[final_df.sex.isin(['M'])]\n",
    "guys_data.head()"
   ]
  },
  {
   "cell_type": "code",
   "execution_count": 44,
   "metadata": {
    "collapsed": false
   },
   "outputs": [
    {
     "data": {
      "text/html": [
       "<div>\n",
       "<table border=\"1\" class=\"dataframe\">\n",
       "  <thead>\n",
       "    <tr style=\"text-align: right;\">\n",
       "      <th></th>\n",
       "      <th>first_semester</th>\n",
       "      <th>first_year</th>\n",
       "      <th>last_semester</th>\n",
       "      <th>last_year</th>\n",
       "      <th>sex</th>\n",
       "    </tr>\n",
       "    <tr>\n",
       "      <th>sciper</th>\n",
       "      <th></th>\n",
       "      <th></th>\n",
       "      <th></th>\n",
       "      <th></th>\n",
       "      <th></th>\n",
       "    </tr>\n",
       "  </thead>\n",
       "  <tbody>\n",
       "    <tr>\n",
       "      <th>178706</th>\n",
       "      <td>1</td>\n",
       "      <td>2007</td>\n",
       "      <td>6</td>\n",
       "      <td>2009</td>\n",
       "      <td>F</td>\n",
       "    </tr>\n",
       "    <tr>\n",
       "      <th>179988</th>\n",
       "      <td>1</td>\n",
       "      <td>2007</td>\n",
       "      <td>6</td>\n",
       "      <td>2009</td>\n",
       "      <td>F</td>\n",
       "    </tr>\n",
       "    <tr>\n",
       "      <th>187420</th>\n",
       "      <td>1</td>\n",
       "      <td>2008</td>\n",
       "      <td>5</td>\n",
       "      <td>2011</td>\n",
       "      <td>F</td>\n",
       "    </tr>\n",
       "    <tr>\n",
       "      <th>185811</th>\n",
       "      <td>1</td>\n",
       "      <td>2008</td>\n",
       "      <td>6</td>\n",
       "      <td>2010</td>\n",
       "      <td>F</td>\n",
       "    </tr>\n",
       "    <tr>\n",
       "      <th>186778</th>\n",
       "      <td>1</td>\n",
       "      <td>2008</td>\n",
       "      <td>6</td>\n",
       "      <td>2010</td>\n",
       "      <td>F</td>\n",
       "    </tr>\n",
       "  </tbody>\n",
       "</table>\n",
       "</div>"
      ],
      "text/plain": [
       "        first_semester  first_year  last_semester  last_year sex\n",
       "sciper                                                          \n",
       "178706               1        2007              6       2009   F\n",
       "179988               1        2007              6       2009   F\n",
       "187420               1        2008              5       2011   F\n",
       "185811               1        2008              6       2010   F\n",
       "186778               1        2008              6       2010   F"
      ]
     },
     "execution_count": 44,
     "metadata": {},
     "output_type": "execute_result"
    }
   ],
   "source": [
    "girls_data = final_df[final_df.sex.isin(['F'])]\n",
    "girls_data.head()"
   ]
  },
  {
   "cell_type": "markdown",
   "metadata": {},
   "source": [
    "Compute the average number of semesters for male students."
   ]
  },
  {
   "cell_type": "code",
   "execution_count": 45,
   "metadata": {
    "collapsed": false
   },
   "outputs": [
    {
     "data": {
      "text/plain": [
       "7.09593023255814"
      ]
     },
     "execution_count": 45,
     "metadata": {},
     "output_type": "execute_result"
    }
   ],
   "source": [
    "guys_time = guys_data.apply(get_time_taken, axis=1)\n",
    "in_at_least_6_semesters_idx = [t>=6 for t in guys_time.values]\n",
    "guys_time = guys_time[in_at_least_6_semesters_idx]\n",
    "avg_guys_time = guys_time.mean()\n",
    "avg_guys_time"
   ]
  },
  {
   "cell_type": "code",
   "execution_count": 46,
   "metadata": {
    "collapsed": false
   },
   "outputs": [
    {
     "data": {
      "text/plain": [
       "(array([ 183.,   45.,   68.,   16.,   21.,    4.,    6.,    1.]),\n",
       " array([  6.,   7.,   8.,   9.,  10.,  11.,  12.,  13.,  14.]),\n",
       " <a list of 8 Patch objects>)"
      ]
     },
     "execution_count": 46,
     "metadata": {},
     "output_type": "execute_result"
    },
    {
     "data": {
      "image/png": "[encoded data removed]",
      "text/plain": [
       "<matplotlib.figure.Figure at 0x7f2160628f60>"
      ]
     },
     "metadata": {},
     "output_type": "display_data"
    }
   ],
   "source": [
    "plt.hist(guys_time, bins=len(guys_time.value_counts()))"
   ]
  },
  {
   "cell_type": "markdown",
   "metadata": {},
   "source": [
    "Compute the average number of semesters for female students."
   ]
  },
  {
   "cell_type": "code",
   "execution_count": 47,
   "metadata": {
    "collapsed": false
   },
   "outputs": [
    {
     "data": {
      "text/plain": [
       "6.461538461538462"
      ]
     },
     "execution_count": 47,
     "metadata": {},
     "output_type": "execute_result"
    }
   ],
   "source": [
    "girls_time = girls_data.apply(get_time_taken, axis=1)\n",
    "in_at_least_6_semesters_idx = [t>=6 for t in girls_time.values]\n",
    "girls_time = girls_time[in_at_least_6_semesters_idx]\n",
    "avg_girls_time = girls_time.mean()\n",
    "avg_girls_time"
   ]
  },
  {
   "cell_type": "code",
   "execution_count": 48,
   "metadata": {
    "collapsed": false
   },
   "outputs": [
    {
     "data": {
      "text/plain": [
       "(array([ 19.,   3.,   3.,   1.]),\n",
       " array([ 6.  ,  6.75,  7.5 ,  8.25,  9.  ]),\n",
       " <a list of 4 Patch objects>)"
      ]
     },
     "execution_count": 48,
     "metadata": {},
     "output_type": "execute_result"
    },
    {
     "data": {
      "image/png": "[encoded data removed]",
      "text/plain": [
       "<matplotlib.figure.Figure at 0x7f215da2e518>"
      ]
     },
     "metadata": {},
     "output_type": "display_data"
    }
   ],
   "source": [
    "plt.hist(girls_time, bins=len(girls_time.value_counts()))"
   ]
  },
  {
   "cell_type": "markdown",
   "metadata": {},
   "source": [
    "<hr>\n",
    "_Is the difference in average statistically significant?_"
   ]
  },
  {
   "cell_type": "markdown",
   "metadata": {},
   "source": [
    "We want to test if the difference in the mean is statistically significant.<br>\n",
    "We have two datasets that are not paired, and which we cannot assume to be normally distributed, especially because the number of data points is not very large.<br>\n",
    "Given these conditions, the Mann-Whitney-U test seemed the most appropriate."
   ]
  },
  {
   "cell_type": "code",
   "execution_count": 49,
   "metadata": {
    "collapsed": false
   },
   "outputs": [
    {
     "data": {
      "text/plain": [
       "MannwhitneyuResult(statistic=5499.0, pvalue=0.031905383484459066)"
      ]
     },
     "execution_count": 49,
     "metadata": {},
     "output_type": "execute_result"
    }
   ],
   "source": [
    "sp.stats.mannwhitneyu(guys_time, girls_time, alternative='two-sided')"
   ]
  },
  {
   "cell_type": "markdown",
   "metadata": {},
   "source": [
    "We use the two-sided test, since we are not only testing whether guys take longer than girls.<br>\n",
    "The resulting p-value is ~3%, meaning that the difference is **actually statistically significant**."
   ]
  },
  {
   "cell_type": "markdown",
   "metadata": {},
   "source": [
    "<hr>\n",
    "<hr>\n",
    "# Assignment 2"
   ]
  },
  {
   "cell_type": "markdown",
   "metadata": {
    "collapsed": true
   },
   "source": [
    "_Compute the \"average stay at EPFL\" for master students_"
   ]
  },
  {
   "cell_type": "code",
   "execution_count": 50,
   "metadata": {
    "collapsed": false,
    "scrolled": true
   },
   "outputs": [
    {
     "name": "stdout",
     "output_type": "stream",
     "text": [
      "Field           Code\n",
      "2007-2008     978181\n",
      "2008-2009     978187\n",
      "2009-2010     978195\n",
      "2010-2011   39486325\n",
      "2011-2012  123455150\n"
     ]
    },
    {
     "data": {
      "text/html": [
       "<div>\n",
       "<table border=\"1\" class=\"dataframe\">\n",
       "  <thead>\n",
       "    <tr style=\"text-align: right;\">\n",
       "      <th>Field</th>\n",
       "      <th>Code</th>\n",
       "    </tr>\n",
       "  </thead>\n",
       "  <tbody>\n",
       "    <tr>\n",
       "      <th>Bachelor semestre 1</th>\n",
       "      <td>249108</td>\n",
       "    </tr>\n",
       "    <tr>\n",
       "      <th>Bachelor semestre 2</th>\n",
       "      <td>249114</td>\n",
       "    </tr>\n",
       "    <tr>\n",
       "      <th>Bachelor semestre 3</th>\n",
       "      <td>942155</td>\n",
       "    </tr>\n",
       "    <tr>\n",
       "      <th>Bachelor semestre 4</th>\n",
       "      <td>942163</td>\n",
       "    </tr>\n",
       "    <tr>\n",
       "      <th>Bachelor semestre 5</th>\n",
       "      <td>942120</td>\n",
       "    </tr>\n",
       "    <tr>\n",
       "      <th>Bachelor semestre 5b</th>\n",
       "      <td>2226768</td>\n",
       "    </tr>\n",
       "    <tr>\n",
       "      <th>Bachelor semestre 6</th>\n",
       "      <td>942175</td>\n",
       "    </tr>\n",
       "    <tr>\n",
       "      <th>Bachelor semestre 6b</th>\n",
       "      <td>2226785</td>\n",
       "    </tr>\n",
       "    <tr>\n",
       "      <th>Master semestre 1</th>\n",
       "      <td>2230106</td>\n",
       "    </tr>\n",
       "    <tr>\n",
       "      <th>Master semestre 2</th>\n",
       "      <td>942192</td>\n",
       "    </tr>\n",
       "    <tr>\n",
       "      <th>Master semestre 3</th>\n",
       "      <td>2230128</td>\n",
       "    </tr>\n",
       "    <tr>\n",
       "      <th>Master semestre 4</th>\n",
       "      <td>2230140</td>\n",
       "    </tr>\n",
       "    <tr>\n",
       "      <th>Mineur semestre 1</th>\n",
       "      <td>2335667</td>\n",
       "    </tr>\n",
       "    <tr>\n",
       "      <th>Mineur semestre 2</th>\n",
       "      <td>2335676</td>\n",
       "    </tr>\n",
       "    <tr>\n",
       "      <th>Mise à niveau</th>\n",
       "      <td>2063602308</td>\n",
       "    </tr>\n",
       "    <tr>\n",
       "      <th>Projet Master automne</th>\n",
       "      <td>249127</td>\n",
       "    </tr>\n",
       "    <tr>\n",
       "      <th>Projet Master printemps</th>\n",
       "      <td>3781783</td>\n",
       "    </tr>\n",
       "    <tr>\n",
       "      <th>Semestre automne</th>\n",
       "      <td>953159</td>\n",
       "    </tr>\n",
       "    <tr>\n",
       "      <th>Semestre printemps</th>\n",
       "      <td>2754553</td>\n",
       "    </tr>\n",
       "    <tr>\n",
       "      <th>Stage automne 3ème année</th>\n",
       "      <td>953137</td>\n",
       "    </tr>\n",
       "    <tr>\n",
       "      <th>Stage automne 4ème année</th>\n",
       "      <td>2226616</td>\n",
       "    </tr>\n",
       "    <tr>\n",
       "      <th>Stage printemps 3ème année</th>\n",
       "      <td>983606</td>\n",
       "    </tr>\n",
       "    <tr>\n",
       "      <th>Stage printemps 4ème année</th>\n",
       "      <td>2226626</td>\n",
       "    </tr>\n",
       "    <tr>\n",
       "      <th>Stage printemps master</th>\n",
       "      <td>2227132</td>\n",
       "    </tr>\n",
       "  </tbody>\n",
       "</table>\n",
       "</div>"
      ],
      "text/plain": [
       "Field                             Code\n",
       "Bachelor semestre 1             249108\n",
       "Bachelor semestre 2             249114\n",
       "Bachelor semestre 3             942155\n",
       "Bachelor semestre 4             942163\n",
       "Bachelor semestre 5             942120\n",
       "Bachelor semestre 5b           2226768\n",
       "Bachelor semestre 6             942175\n",
       "Bachelor semestre 6b           2226785\n",
       "Master semestre 1              2230106\n",
       "Master semestre 2               942192\n",
       "Master semestre 3              2230128\n",
       "Master semestre 4              2230140\n",
       "Mineur semestre 1              2335667\n",
       "Mineur semestre 2              2335676\n",
       "Mise à niveau               2063602308\n",
       "Projet Master automne           249127\n",
       "Projet Master printemps        3781783\n",
       "Semestre automne                953159\n",
       "Semestre printemps             2754553\n",
       "Stage automne 3ème année        953137\n",
       "Stage automne 4ème année       2226616\n",
       "Stage printemps 3ème année      983606\n",
       "Stage printemps 4ème année     2226626\n",
       "Stage printemps master         2227132"
      ]
     },
     "execution_count": 50,
     "metadata": {},
     "output_type": "execute_result"
    }
   ],
   "source": [
    "print(acad_years.head())\n",
    "semesters"
   ]
  },
  {
   "cell_type": "markdown",
   "metadata": {},
   "source": [
    "Among the different semesters, we are only interested in: `Master semestre 1`, `Master semestre 2`, `Master semestre 3`, `Project Master automne`, `Project Master printemps`.\n",
    "Note that:\n",
    "- there is no `Master semestre 4` for CS students;\n",
    "- there is no `Mineur semestre *` for CS students;\n",
    "- students doing a semester-long internship are still listed in the correspondent semester (but with `Stage` status). Thus, even if they do a 90-credit Master, they will need at least 4 semesters"
   ]
  },
  {
   "cell_type": "code",
   "execution_count": 51,
   "metadata": {
    "collapsed": false
   },
   "outputs": [],
   "source": [
    "def get_frame_from_master_html(html_doc):\n",
    "    \n",
    "    # Adapted from: http://nbviewer.jupyter.org/github/chrisalbon/code_py/blob/master/beautiful_soup_scrape_table.ipynb\n",
    "\n",
    "    # Create four variables to store the scraped data in\n",
    "    status = []\n",
    "    sciper = []\n",
    "    sex = []\n",
    "    minor = []\n",
    "    specialization = []\n",
    "    \n",
    "    soup = BeautifulSoup(html_doc, 'html.parser')\n",
    "    table = soup.find(\"table\")\n",
    "\n",
    "    # Find all the <tr> tag pairs, skip the first two, then for each.\n",
    "    for row in table.find_all('tr')[2:]:\n",
    "        # Create a variable of all the <td> tag pairs in each <tr> tag pair\n",
    "        col = row.find_all('td')\n",
    "\n",
    "        column_status = col[-5].string.strip()\n",
    "        status.append(column_status)\n",
    "\n",
    "        column_sciper = col[-2].string.strip()\n",
    "        sciper.append(column_sciper)\n",
    "    \n",
    "        column_sex = col[0].string.strip()\n",
    "        if 'Monsieur' in column_sex:\n",
    "            sex.append('M')\n",
    "        else:\n",
    "            sex.append('F')\n",
    "\n",
    "        if isinstance(col[4].string, str):\n",
    "            column_spec = col[4].string.strip()\n",
    "        else:\n",
    "            column_spec = \"No\"\n",
    "        specialization.append(column_spec)\n",
    "        \n",
    "        if isinstance(col[6].string, str):\n",
    "            column_min = 1\n",
    "        else:\n",
    "            column_min = 0\n",
    "        minor.append(column_min)\n",
    "\n",
    "    # Create a variable of the value of the columns\n",
    "    columns = {'sex':sex, 'status': status, 'specialization': specialization, 'minor': minor}\n",
    "\n",
    "    # Create a dataframe from the columns variable\n",
    "    df = pd.DataFrame(columns, index=sciper)\n",
    "    df.index.name = 'sciper'\n",
    "    return df"
   ]
  },
  {
   "cell_type": "code",
   "execution_count": 52,
   "metadata": {
    "collapsed": true
   },
   "outputs": [],
   "source": [
    "def get_basic_master_info(acad_unit, acad_year, semester, semester_type):\n",
    "    html_doc = get_html_page(acad_unit, acad_year, semester, semester_type)\n",
    "    if html_doc == None:\n",
    "        return pd.DataFrame()\n",
    "    df = get_frame_from_master_html(html_doc)\n",
    "    return df"
   ]
  },
  {
   "cell_type": "markdown",
   "metadata": {},
   "source": [
    "Collect all master students starting from 2007."
   ]
  },
  {
   "cell_type": "code",
   "execution_count": 53,
   "metadata": {
    "collapsed": true
   },
   "outputs": [],
   "source": [
    "master_semesters_list = ['Master semestre 1', 'Master semestre 2', 'Master semestre 3', \\\n",
    "                         'Projet Master automne', 'Projet Master printemps']"
   ]
  },
  {
   "cell_type": "markdown",
   "metadata": {},
   "source": [
    "We create a dictionary indexed by year, semester, and semester type, and containing all the relevant information about each student."
   ]
  },
  {
   "cell_type": "code",
   "execution_count": 54,
   "metadata": {
    "collapsed": false
   },
   "outputs": [],
   "source": [
    "# all_masters_dict = dict()\n",
    "# for i in range(len(acad_years)):\n",
    "#     for j in range(len(semesters)):\n",
    "#         for k in range(len(semester_type)):\n",
    "#             year = acad_years.index[i]\n",
    "#             sem = semesters.index[j]\n",
    "#             sem_type = semester_type.index[k]\n",
    "#             if(int(year.split('-')[0]) >=2007 and sem in master_semesters_list):\n",
    "#                 basic_info = get_basic_master_info(acad_units.Code['Informatique'], \n",
    "#                                                                                 acad_years.Code[year], \n",
    "#                                                                                 semesters.Code[sem], \n",
    "#                                                                                 semester_type.Code[sem_type])\n",
    "#                 if not basic_info.empty:\n",
    "#                     all_masters_dict[(year, sem, sem_type)] = basic_info"
   ]
  },
  {
   "cell_type": "code",
   "execution_count": 55,
   "metadata": {
    "collapsed": false
   },
   "outputs": [],
   "source": [
    "# all_masters_data = pd.concat(all_masters_dict)\n",
    "# all_masters_data.index.names = ['year', 'semester', 'semester_type', 'sciper']\n",
    "# all_masters_data.head()"
   ]
  },
  {
   "cell_type": "code",
   "execution_count": 56,
   "metadata": {
    "collapsed": true
   },
   "outputs": [],
   "source": [
    "# all_masters_data.to_pickle(\"all_masters_data\")"
   ]
  },
  {
   "cell_type": "markdown",
   "metadata": {},
   "source": [
    "Again, the extracting of information data is commented and instead reloaded from a pickle."
   ]
  },
  {
   "cell_type": "code",
   "execution_count": 57,
   "metadata": {
    "collapsed": false
   },
   "outputs": [
    {
     "data": {
      "text/html": [
       "<div>\n",
       "<table border=\"1\" class=\"dataframe\">\n",
       "  <thead>\n",
       "    <tr style=\"text-align: right;\">\n",
       "      <th></th>\n",
       "      <th></th>\n",
       "      <th></th>\n",
       "      <th></th>\n",
       "      <th>minor</th>\n",
       "      <th>sex</th>\n",
       "      <th>specialization</th>\n",
       "      <th>status</th>\n",
       "    </tr>\n",
       "    <tr>\n",
       "      <th>year</th>\n",
       "      <th>semester</th>\n",
       "      <th>semester_type</th>\n",
       "      <th>sciper</th>\n",
       "      <th></th>\n",
       "      <th></th>\n",
       "      <th></th>\n",
       "      <th></th>\n",
       "    </tr>\n",
       "  </thead>\n",
       "  <tbody>\n",
       "    <tr>\n",
       "      <th rowspan=\"5\" valign=\"top\">2007-2008</th>\n",
       "      <th rowspan=\"5\" valign=\"top\">Master semestre 1</th>\n",
       "      <th rowspan=\"5\" valign=\"top\">Semestre d'automne</th>\n",
       "      <th>153066</th>\n",
       "      <td>0</td>\n",
       "      <td>M</td>\n",
       "      <td>No</td>\n",
       "      <td>Présent</td>\n",
       "    </tr>\n",
       "    <tr>\n",
       "      <th>180027</th>\n",
       "      <td>0</td>\n",
       "      <td>F</td>\n",
       "      <td>No</td>\n",
       "      <td>Présent</td>\n",
       "    </tr>\n",
       "    <tr>\n",
       "      <th>152232</th>\n",
       "      <td>0</td>\n",
       "      <td>M</td>\n",
       "      <td>No</td>\n",
       "      <td>Présent</td>\n",
       "    </tr>\n",
       "    <tr>\n",
       "      <th>177395</th>\n",
       "      <td>0</td>\n",
       "      <td>M</td>\n",
       "      <td>No</td>\n",
       "      <td>Présent</td>\n",
       "    </tr>\n",
       "    <tr>\n",
       "      <th>161970</th>\n",
       "      <td>0</td>\n",
       "      <td>M</td>\n",
       "      <td>No</td>\n",
       "      <td>Présent</td>\n",
       "    </tr>\n",
       "  </tbody>\n",
       "</table>\n",
       "</div>"
      ],
      "text/plain": [
       "                                                       minor sex  \\\n",
       "year      semester          semester_type      sciper              \n",
       "2007-2008 Master semestre 1 Semestre d'automne 153066      0   M   \n",
       "                                               180027      0   F   \n",
       "                                               152232      0   M   \n",
       "                                               177395      0   M   \n",
       "                                               161970      0   M   \n",
       "\n",
       "                                                      specialization   status  \n",
       "year      semester          semester_type      sciper                          \n",
       "2007-2008 Master semestre 1 Semestre d'automne 153066             No  Présent  \n",
       "                                               180027             No  Présent  \n",
       "                                               152232             No  Présent  \n",
       "                                               177395             No  Présent  \n",
       "                                               161970             No  Présent  "
      ]
     },
     "execution_count": 57,
     "metadata": {},
     "output_type": "execute_result"
    }
   ],
   "source": [
    "all_masters_data = pd.read_pickle(\"all_masters_data\")\n",
    "all_masters_data.head()"
   ]
  },
  {
   "cell_type": "markdown",
   "metadata": {},
   "source": [
    "Similarly to assignment 1, we group the students by their sciper. At this point, we have 977 master's students."
   ]
  },
  {
   "cell_type": "code",
   "execution_count": 58,
   "metadata": {
    "collapsed": false
   },
   "outputs": [
    {
     "data": {
      "text/plain": [
       "977"
      ]
     },
     "execution_count": 58,
     "metadata": {},
     "output_type": "execute_result"
    }
   ],
   "source": [
    "all_scipers = all_masters_data.index.get_level_values('sciper')\n",
    "unique_scipers = all_scipers.unique()\n",
    "unique_scipers.size"
   ]
  },
  {
   "cell_type": "markdown",
   "metadata": {},
   "source": [
    "We reindex the DataFrame to easily manipulate the data later."
   ]
  },
  {
   "cell_type": "code",
   "execution_count": 59,
   "metadata": {
    "collapsed": false
   },
   "outputs": [
    {
     "data": {
      "text/html": [
       "<div>\n",
       "<table border=\"1\" class=\"dataframe\">\n",
       "  <thead>\n",
       "    <tr style=\"text-align: right;\">\n",
       "      <th></th>\n",
       "      <th></th>\n",
       "      <th></th>\n",
       "      <th>semester_type</th>\n",
       "      <th>minor</th>\n",
       "      <th>sex</th>\n",
       "      <th>specialization</th>\n",
       "      <th>status</th>\n",
       "    </tr>\n",
       "    <tr>\n",
       "      <th>sciper</th>\n",
       "      <th>year</th>\n",
       "      <th>semester</th>\n",
       "      <th></th>\n",
       "      <th></th>\n",
       "      <th></th>\n",
       "      <th></th>\n",
       "      <th></th>\n",
       "    </tr>\n",
       "  </thead>\n",
       "  <tbody>\n",
       "    <tr>\n",
       "      <th>153066</th>\n",
       "      <th>2007-2008</th>\n",
       "      <th>Master semestre 1</th>\n",
       "      <td>Semestre d'automne</td>\n",
       "      <td>0</td>\n",
       "      <td>M</td>\n",
       "      <td>No</td>\n",
       "      <td>Présent</td>\n",
       "    </tr>\n",
       "    <tr>\n",
       "      <th>180027</th>\n",
       "      <th>2007-2008</th>\n",
       "      <th>Master semestre 1</th>\n",
       "      <td>Semestre d'automne</td>\n",
       "      <td>0</td>\n",
       "      <td>F</td>\n",
       "      <td>No</td>\n",
       "      <td>Présent</td>\n",
       "    </tr>\n",
       "    <tr>\n",
       "      <th>152232</th>\n",
       "      <th>2007-2008</th>\n",
       "      <th>Master semestre 1</th>\n",
       "      <td>Semestre d'automne</td>\n",
       "      <td>0</td>\n",
       "      <td>M</td>\n",
       "      <td>No</td>\n",
       "      <td>Présent</td>\n",
       "    </tr>\n",
       "    <tr>\n",
       "      <th>177395</th>\n",
       "      <th>2007-2008</th>\n",
       "      <th>Master semestre 1</th>\n",
       "      <td>Semestre d'automne</td>\n",
       "      <td>0</td>\n",
       "      <td>M</td>\n",
       "      <td>No</td>\n",
       "      <td>Présent</td>\n",
       "    </tr>\n",
       "    <tr>\n",
       "      <th>161970</th>\n",
       "      <th>2007-2008</th>\n",
       "      <th>Master semestre 1</th>\n",
       "      <td>Semestre d'automne</td>\n",
       "      <td>0</td>\n",
       "      <td>M</td>\n",
       "      <td>No</td>\n",
       "      <td>Présent</td>\n",
       "    </tr>\n",
       "  </tbody>\n",
       "</table>\n",
       "</div>"
      ],
      "text/plain": [
       "                                         semester_type  minor sex  \\\n",
       "sciper year      semester                                           \n",
       "153066 2007-2008 Master semestre 1  Semestre d'automne      0   M   \n",
       "180027 2007-2008 Master semestre 1  Semestre d'automne      0   F   \n",
       "152232 2007-2008 Master semestre 1  Semestre d'automne      0   M   \n",
       "177395 2007-2008 Master semestre 1  Semestre d'automne      0   M   \n",
       "161970 2007-2008 Master semestre 1  Semestre d'automne      0   M   \n",
       "\n",
       "                                   specialization   status  \n",
       "sciper year      semester                                   \n",
       "153066 2007-2008 Master semestre 1             No  Présent  \n",
       "180027 2007-2008 Master semestre 1             No  Présent  \n",
       "152232 2007-2008 Master semestre 1             No  Présent  \n",
       "177395 2007-2008 Master semestre 1             No  Présent  \n",
       "161970 2007-2008 Master semestre 1             No  Présent  "
      ]
     },
     "execution_count": 59,
     "metadata": {},
     "output_type": "execute_result"
    }
   ],
   "source": [
    "all_masters_noindex = all_masters_data.reset_index()\n",
    "all_masters_final = all_masters_noindex.set_index(['sciper', 'year', 'semester'])\n",
    "all_masters_final.head()"
   ]
  },
  {
   "cell_type": "code",
   "execution_count": 60,
   "metadata": {
    "collapsed": true
   },
   "outputs": [],
   "source": [
    "all_masters_grouped = all_masters_noindex.groupby(['sciper'])"
   ]
  },
  {
   "cell_type": "markdown",
   "metadata": {},
   "source": [
    "Add a column to count the minimum number of semesters that a student must have spent, considering whether she does:\n",
    "- minor or specialization\n",
    "- semester-long internship"
   ]
  },
  {
   "cell_type": "code",
   "execution_count": 61,
   "metadata": {
    "collapsed": true
   },
   "outputs": [],
   "source": [
    "def count_min_semesters(student):\n",
    "    nbr_additional_semesters = 0\n",
    "    sums = student.sum()\n",
    "    \n",
    "    spec_sum = 0\n",
    "    for spec_in_year in student['specialization']:\n",
    "        if(spec_in_year == 'No'):\n",
    "            spec_sum += 0\n",
    "        else:\n",
    "            spec_sum += 1\n",
    "\n",
    "    minor_spec = spec_sum + sums['minor']\n",
    "    if minor_spec > 0:\n",
    "        nbr_additional_semesters = nbr_additional_semesters + 1\n",
    "\n",
    "    if 'Stage' in sums['status']:\n",
    "        nbr_additional_semesters = nbr_additional_semesters + 1\n",
    "    \n",
    "    # since the minimum duration of a Master is 3 semesters, we have\n",
    "    min_nbr_semesters = nbr_additional_semesters + 3\n",
    "\n",
    "    return min_nbr_semesters"
   ]
  },
  {
   "cell_type": "code",
   "execution_count": 62,
   "metadata": {
    "collapsed": false
   },
   "outputs": [
    {
     "data": {
      "text/html": [
       "<div>\n",
       "<table border=\"1\" class=\"dataframe\">\n",
       "  <thead>\n",
       "    <tr style=\"text-align: right;\">\n",
       "      <th></th>\n",
       "      <th>min_sems</th>\n",
       "    </tr>\n",
       "    <tr>\n",
       "      <th>sciper</th>\n",
       "      <th></th>\n",
       "    </tr>\n",
       "  </thead>\n",
       "  <tbody>\n",
       "    <tr>\n",
       "      <th>128911</th>\n",
       "      <td>4</td>\n",
       "    </tr>\n",
       "    <tr>\n",
       "      <th>129093</th>\n",
       "      <td>4</td>\n",
       "    </tr>\n",
       "    <tr>\n",
       "      <th>129326</th>\n",
       "      <td>3</td>\n",
       "    </tr>\n",
       "    <tr>\n",
       "      <th>138088</th>\n",
       "      <td>3</td>\n",
       "    </tr>\n",
       "    <tr>\n",
       "      <th>145546</th>\n",
       "      <td>3</td>\n",
       "    </tr>\n",
       "  </tbody>\n",
       "</table>\n",
       "</div>"
      ],
      "text/plain": [
       "        min_sems\n",
       "sciper          \n",
       "128911         4\n",
       "129093         4\n",
       "129326         3\n",
       "138088         3\n",
       "145546         3"
      ]
     },
     "execution_count": 62,
     "metadata": {},
     "output_type": "execute_result"
    }
   ],
   "source": [
    "min_sems = all_masters_grouped.apply(count_min_semesters)\n",
    "min_sems_df = pd.DataFrame(min_sems)\n",
    "min_sems_df.index.name = 'sciper'\n",
    "min_sems_df.columns = ['min_sems']\n",
    "min_sems_df.head()"
   ]
  },
  {
   "cell_type": "markdown",
   "metadata": {},
   "source": [
    "**Assumption:** Remove students for whom we do not know whether they will graduate this year or not.<br>\n",
    "That is, we remove all students who are enrolled in 2016-2017 and their semester is not Projet Master automne.<br><br>\n",
    "This also allows us to remove first-year students from our statistics.\n",
    "\n",
    "\n",
    "Note that there is no student in Projet Master printemps.\n",
    "\n",
    "So, let's create a list of the scipers enrolled in 2016-2017 but not doing a Master Project"
   ]
  },
  {
   "cell_type": "code",
   "execution_count": 63,
   "metadata": {
    "collapsed": false
   },
   "outputs": [
    {
     "data": {
      "text/plain": [
       "258"
      ]
     },
     "execution_count": 63,
     "metadata": {},
     "output_type": "execute_result"
    }
   ],
   "source": [
    "ma_1617_idx = [(y == '2016-2017') and (s != 'Projet Master automne') \\\n",
    "               for y,s in zip(all_masters_final.index.get_level_values('year'), \\\n",
    "                              all_masters_final.index.get_level_values('semester'))]\n",
    "nbr_ma_1617 = ma_1617_idx.count(True)\n",
    "nbr_ma_1617"
   ]
  },
  {
   "cell_type": "code",
   "execution_count": 64,
   "metadata": {
    "collapsed": true
   },
   "outputs": [],
   "source": [
    "ma_1617_scipers_list = list(all_masters_final[ma_1617_idx].index.get_level_values('sciper'))"
   ]
  },
  {
   "cell_type": "markdown",
   "metadata": {},
   "source": [
    "And we remove them from our statistics"
   ]
  },
  {
   "cell_type": "code",
   "execution_count": 65,
   "metadata": {
    "collapsed": true
   },
   "outputs": [],
   "source": [
    "non_graduating_this_year_list = []\n",
    "for sciper in all_masters_final.index.get_level_values('sciper'):\n",
    "    if sciper in ma_1617_scipers_list:\n",
    "        non_graduating_this_year_list.append(False)\n",
    "    else:\n",
    "        non_graduating_this_year_list.append(True)"
   ]
  },
  {
   "cell_type": "code",
   "execution_count": 66,
   "metadata": {
    "collapsed": false
   },
   "outputs": [
    {
     "data": {
      "text/html": [
       "<div>\n",
       "<table border=\"1\" class=\"dataframe\">\n",
       "  <thead>\n",
       "    <tr style=\"text-align: right;\">\n",
       "      <th></th>\n",
       "      <th></th>\n",
       "      <th></th>\n",
       "      <th>semester_type</th>\n",
       "      <th>minor</th>\n",
       "      <th>sex</th>\n",
       "      <th>specialization</th>\n",
       "      <th>status</th>\n",
       "    </tr>\n",
       "    <tr>\n",
       "      <th>sciper</th>\n",
       "      <th>year</th>\n",
       "      <th>semester</th>\n",
       "      <th></th>\n",
       "      <th></th>\n",
       "      <th></th>\n",
       "      <th></th>\n",
       "      <th></th>\n",
       "    </tr>\n",
       "  </thead>\n",
       "  <tbody>\n",
       "    <tr>\n",
       "      <th>202508</th>\n",
       "      <th>2016-2017</th>\n",
       "      <th>Projet Master automne</th>\n",
       "      <td>Semestre d'automne</td>\n",
       "      <td>0</td>\n",
       "      <td>M</td>\n",
       "      <td>No</td>\n",
       "      <td>Présent</td>\n",
       "    </tr>\n",
       "    <tr>\n",
       "      <th>245527</th>\n",
       "      <th>2016-2017</th>\n",
       "      <th>Projet Master automne</th>\n",
       "      <td>Semestre d'automne</td>\n",
       "      <td>0</td>\n",
       "      <td>F</td>\n",
       "      <td>No</td>\n",
       "      <td>Présent</td>\n",
       "    </tr>\n",
       "    <tr>\n",
       "      <th>229235</th>\n",
       "      <th>2016-2017</th>\n",
       "      <th>Projet Master automne</th>\n",
       "      <td>Semestre d'automne</td>\n",
       "      <td>0</td>\n",
       "      <td>M</td>\n",
       "      <td>No</td>\n",
       "      <td>Présent</td>\n",
       "    </tr>\n",
       "    <tr>\n",
       "      <th>244283</th>\n",
       "      <th>2016-2017</th>\n",
       "      <th>Projet Master automne</th>\n",
       "      <td>Semestre d'automne</td>\n",
       "      <td>0</td>\n",
       "      <td>F</td>\n",
       "      <td>No</td>\n",
       "      <td>Présent</td>\n",
       "    </tr>\n",
       "    <tr>\n",
       "      <th>245293</th>\n",
       "      <th>2016-2017</th>\n",
       "      <th>Projet Master automne</th>\n",
       "      <td>Semestre d'automne</td>\n",
       "      <td>0</td>\n",
       "      <td>F</td>\n",
       "      <td>No</td>\n",
       "      <td>Congé</td>\n",
       "    </tr>\n",
       "  </tbody>\n",
       "</table>\n",
       "</div>"
      ],
      "text/plain": [
       "                                             semester_type  minor sex  \\\n",
       "sciper year      semester                                               \n",
       "202508 2016-2017 Projet Master automne  Semestre d'automne      0   M   \n",
       "245527 2016-2017 Projet Master automne  Semestre d'automne      0   F   \n",
       "229235 2016-2017 Projet Master automne  Semestre d'automne      0   M   \n",
       "244283 2016-2017 Projet Master automne  Semestre d'automne      0   F   \n",
       "245293 2016-2017 Projet Master automne  Semestre d'automne      0   F   \n",
       "\n",
       "                                       specialization   status  \n",
       "sciper year      semester                                       \n",
       "202508 2016-2017 Projet Master automne             No  Présent  \n",
       "245527 2016-2017 Projet Master automne             No  Présent  \n",
       "229235 2016-2017 Projet Master automne             No  Présent  \n",
       "244283 2016-2017 Projet Master automne             No  Présent  \n",
       "245293 2016-2017 Projet Master automne             No    Congé  "
      ]
     },
     "execution_count": 66,
     "metadata": {},
     "output_type": "execute_result"
    }
   ],
   "source": [
    "before_1617 = all_masters_final[non_graduating_this_year_list]\n",
    "before_1617.tail()"
   ]
  },
  {
   "cell_type": "code",
   "execution_count": 67,
   "metadata": {
    "collapsed": false
   },
   "outputs": [
    {
     "data": {
      "text/html": [
       "<div>\n",
       "<table border=\"1\" class=\"dataframe\">\n",
       "  <thead>\n",
       "    <tr style=\"text-align: right;\">\n",
       "      <th></th>\n",
       "      <th>sciper</th>\n",
       "      <th>year</th>\n",
       "      <th>semester</th>\n",
       "      <th>semester_type</th>\n",
       "      <th>minor</th>\n",
       "      <th>sex</th>\n",
       "      <th>specialization</th>\n",
       "      <th>status</th>\n",
       "    </tr>\n",
       "  </thead>\n",
       "  <tbody>\n",
       "    <tr>\n",
       "      <th>0</th>\n",
       "      <td>153066</td>\n",
       "      <td>2007-2008</td>\n",
       "      <td>Master semestre 1</td>\n",
       "      <td>Semestre d'automne</td>\n",
       "      <td>0</td>\n",
       "      <td>M</td>\n",
       "      <td>No</td>\n",
       "      <td>Présent</td>\n",
       "    </tr>\n",
       "    <tr>\n",
       "      <th>1</th>\n",
       "      <td>180027</td>\n",
       "      <td>2007-2008</td>\n",
       "      <td>Master semestre 1</td>\n",
       "      <td>Semestre d'automne</td>\n",
       "      <td>0</td>\n",
       "      <td>F</td>\n",
       "      <td>No</td>\n",
       "      <td>Présent</td>\n",
       "    </tr>\n",
       "    <tr>\n",
       "      <th>2</th>\n",
       "      <td>152232</td>\n",
       "      <td>2007-2008</td>\n",
       "      <td>Master semestre 1</td>\n",
       "      <td>Semestre d'automne</td>\n",
       "      <td>0</td>\n",
       "      <td>M</td>\n",
       "      <td>No</td>\n",
       "      <td>Présent</td>\n",
       "    </tr>\n",
       "    <tr>\n",
       "      <th>3</th>\n",
       "      <td>177395</td>\n",
       "      <td>2007-2008</td>\n",
       "      <td>Master semestre 1</td>\n",
       "      <td>Semestre d'automne</td>\n",
       "      <td>0</td>\n",
       "      <td>M</td>\n",
       "      <td>No</td>\n",
       "      <td>Présent</td>\n",
       "    </tr>\n",
       "    <tr>\n",
       "      <th>4</th>\n",
       "      <td>161970</td>\n",
       "      <td>2007-2008</td>\n",
       "      <td>Master semestre 1</td>\n",
       "      <td>Semestre d'automne</td>\n",
       "      <td>0</td>\n",
       "      <td>M</td>\n",
       "      <td>No</td>\n",
       "      <td>Présent</td>\n",
       "    </tr>\n",
       "  </tbody>\n",
       "</table>\n",
       "</div>"
      ],
      "text/plain": [
       "   sciper       year           semester       semester_type  minor sex  \\\n",
       "0  153066  2007-2008  Master semestre 1  Semestre d'automne      0   M   \n",
       "1  180027  2007-2008  Master semestre 1  Semestre d'automne      0   F   \n",
       "2  152232  2007-2008  Master semestre 1  Semestre d'automne      0   M   \n",
       "3  177395  2007-2008  Master semestre 1  Semestre d'automne      0   M   \n",
       "4  161970  2007-2008  Master semestre 1  Semestre d'automne      0   M   \n",
       "\n",
       "  specialization   status  \n",
       "0             No  Présent  \n",
       "1             No  Présent  \n",
       "2             No  Présent  \n",
       "3             No  Présent  \n",
       "4             No  Présent  "
      ]
     },
     "execution_count": 67,
     "metadata": {},
     "output_type": "execute_result"
    }
   ],
   "source": [
    "before_1617_noidx = before_1617.reset_index()\n",
    "before_1617_noidx.head()"
   ]
  },
  {
   "cell_type": "code",
   "execution_count": 68,
   "metadata": {
    "collapsed": false
   },
   "outputs": [
    {
     "data": {
      "text/html": [
       "<div>\n",
       "<table border=\"1\" class=\"dataframe\">\n",
       "  <thead>\n",
       "    <tr style=\"text-align: right;\">\n",
       "      <th></th>\n",
       "      <th>registered_sems</th>\n",
       "    </tr>\n",
       "    <tr>\n",
       "      <th>sciper</th>\n",
       "      <th></th>\n",
       "    </tr>\n",
       "  </thead>\n",
       "  <tbody>\n",
       "    <tr>\n",
       "      <th>166491</th>\n",
       "      <td>8</td>\n",
       "    </tr>\n",
       "    <tr>\n",
       "      <th>179988</th>\n",
       "      <td>7</td>\n",
       "    </tr>\n",
       "    <tr>\n",
       "      <th>194182</th>\n",
       "      <td>7</td>\n",
       "    </tr>\n",
       "    <tr>\n",
       "      <th>201600</th>\n",
       "      <td>7</td>\n",
       "    </tr>\n",
       "    <tr>\n",
       "      <th>146742</th>\n",
       "      <td>7</td>\n",
       "    </tr>\n",
       "  </tbody>\n",
       "</table>\n",
       "</div>"
      ],
      "text/plain": [
       "        registered_sems\n",
       "sciper                 \n",
       "166491                8\n",
       "179988                7\n",
       "194182                7\n",
       "201600                7\n",
       "146742                7"
      ]
     },
     "execution_count": 68,
     "metadata": {},
     "output_type": "execute_result"
    }
   ],
   "source": [
    "registered_sems_df = pd.DataFrame(before_1617_noidx['sciper'].value_counts())\n",
    "registered_sems_df.index.name = 'sciper'\n",
    "registered_sems_df.columns = ['registered_sems']\n",
    "registered_sems_df.head()"
   ]
  },
  {
   "cell_type": "markdown",
   "metadata": {},
   "source": [
    "In order to calculate the number of semesters spent before graduating, we get the first and last occurence of each student. <br>\n",
    "\n",
    "We notice that the extracted data is not ordered, so we need the last two occurences in order to figure out what the student's last semester was."
   ]
  },
  {
   "cell_type": "code",
   "execution_count": 80,
   "metadata": {
    "collapsed": true
   },
   "outputs": [],
   "source": [
    "def get_first_last_occurence(unique_scipers, data):\n",
    "    first_year = [int(data.xs(sciper,level='sciper').index[0][0].split(\"-\")[0]) for sciper in unique_scipers]\n",
    "    first_sem =  [data.xs(sciper,level='sciper').index[0][1] for sciper in unique_scipers]\n",
    "    last_year = [int(data.xs(sciper,level='sciper').index[-1][0].split(\"-\")[0]) for sciper in unique_scipers]\n",
    "    last_sem =  [data.xs(sciper,level='sciper').index[-1][1] for sciper in unique_scipers]\n",
    "    last_sem2 = []\n",
    "    last_year2 = []\n",
    "    for sciper in unique_scipers:\n",
    "        if len(data.xs(sciper,level='sciper').index) >= 2:\n",
    "            last_sem2.append(data.xs(sciper,level='sciper').index[-2][1])\n",
    "            last_year2.append(int(data.xs(sciper, level='sciper').index[-2][0].split(\"-\")[0]))\n",
    "        else:\n",
    "            last_sem2.append(\"\")\n",
    "            last_year2.append(0)\n",
    "    sex = [data.xs(sciper,level='sciper')['sex'][0] for sciper in unique_scipers]\n",
    "    columns = {'first_semester':first_sem, 'first_year':first_year, 'last_semester':last_sem, 'last_year':last_year, \n",
    "               'last_semester2':last_sem2, 'last_year2':last_year2, 'sex': sex}\n",
    "    df = pd.DataFrame(columns, index=unique_scipers)\n",
    "    df.index.name = 'sciper'\n",
    "    return df"
   ]
  },
  {
   "cell_type": "code",
   "execution_count": 81,
   "metadata": {
    "collapsed": false
   },
   "outputs": [
    {
     "data": {
      "text/html": [
       "<div>\n",
       "<table border=\"1\" class=\"dataframe\">\n",
       "  <thead>\n",
       "    <tr style=\"text-align: right;\">\n",
       "      <th></th>\n",
       "      <th>first_semester</th>\n",
       "      <th>first_year</th>\n",
       "      <th>last_semester</th>\n",
       "      <th>last_semester2</th>\n",
       "      <th>last_year</th>\n",
       "      <th>last_year2</th>\n",
       "      <th>sex</th>\n",
       "    </tr>\n",
       "    <tr>\n",
       "      <th>sciper</th>\n",
       "      <th></th>\n",
       "      <th></th>\n",
       "      <th></th>\n",
       "      <th></th>\n",
       "      <th></th>\n",
       "      <th></th>\n",
       "      <th></th>\n",
       "    </tr>\n",
       "  </thead>\n",
       "  <tbody>\n",
       "    <tr>\n",
       "      <th>153066</th>\n",
       "      <td>Master semestre 1</td>\n",
       "      <td>2007</td>\n",
       "      <td>Master semestre 3</td>\n",
       "      <td>Master semestre 2</td>\n",
       "      <td>2009</td>\n",
       "      <td>2009</td>\n",
       "      <td>M</td>\n",
       "    </tr>\n",
       "    <tr>\n",
       "      <th>180027</th>\n",
       "      <td>Master semestre 1</td>\n",
       "      <td>2007</td>\n",
       "      <td>Projet Master automne</td>\n",
       "      <td>Master semestre 2</td>\n",
       "      <td>2008</td>\n",
       "      <td>2007</td>\n",
       "      <td>F</td>\n",
       "    </tr>\n",
       "    <tr>\n",
       "      <th>152232</th>\n",
       "      <td>Master semestre 1</td>\n",
       "      <td>2007</td>\n",
       "      <td>Master semestre 3</td>\n",
       "      <td>Master semestre 2</td>\n",
       "      <td>2008</td>\n",
       "      <td>2007</td>\n",
       "      <td>M</td>\n",
       "    </tr>\n",
       "    <tr>\n",
       "      <th>177395</th>\n",
       "      <td>Master semestre 1</td>\n",
       "      <td>2007</td>\n",
       "      <td>Master semestre 3</td>\n",
       "      <td>Master semestre 2</td>\n",
       "      <td>2008</td>\n",
       "      <td>2007</td>\n",
       "      <td>M</td>\n",
       "    </tr>\n",
       "    <tr>\n",
       "      <th>161970</th>\n",
       "      <td>Master semestre 1</td>\n",
       "      <td>2007</td>\n",
       "      <td>Master semestre 3</td>\n",
       "      <td>Master semestre 2</td>\n",
       "      <td>2008</td>\n",
       "      <td>2007</td>\n",
       "      <td>M</td>\n",
       "    </tr>\n",
       "  </tbody>\n",
       "</table>\n",
       "</div>"
      ],
      "text/plain": [
       "           first_semester  first_year          last_semester  \\\n",
       "sciper                                                         \n",
       "153066  Master semestre 1        2007      Master semestre 3   \n",
       "180027  Master semestre 1        2007  Projet Master automne   \n",
       "152232  Master semestre 1        2007      Master semestre 3   \n",
       "177395  Master semestre 1        2007      Master semestre 3   \n",
       "161970  Master semestre 1        2007      Master semestre 3   \n",
       "\n",
       "           last_semester2  last_year  last_year2 sex  \n",
       "sciper                                                \n",
       "153066  Master semestre 2       2009        2009   M  \n",
       "180027  Master semestre 2       2008        2007   F  \n",
       "152232  Master semestre 2       2008        2007   M  \n",
       "177395  Master semestre 2       2008        2007   M  \n",
       "161970  Master semestre 2       2008        2007   M  "
      ]
     },
     "execution_count": 81,
     "metadata": {},
     "output_type": "execute_result"
    }
   ],
   "source": [
    "first_last_semesters_df = get_first_last_occurence(unique_scipers, all_masters_data)\n",
    "first_last_semesters_df.head()"
   ]
  },
  {
   "cell_type": "markdown",
   "metadata": {},
   "source": [
    "To get the total time taken, we substract the last year from the first year, then we add the corresponding semesters as in Assignment 1. Finally, if the student is not enrolled in the thesis projet, then we add a semester for them to account for that."
   ]
  },
  {
   "cell_type": "code",
   "execution_count": 82,
   "metadata": {
    "collapsed": true
   },
   "outputs": [],
   "source": [
    "def get_time_taken(student):\n",
    "    \"\"\"Return the number of semesters a student took to graduate\"\"\"\n",
    "    years = student['last_year'] - student['first_year']\n",
    "    if(student['first_semester'].split(\" \")[2] == \"1\"):\n",
    "        years += 0.5\n",
    "    \n",
    "    if(student['last_semester'].split(\" \")[2] == \"printemps\" or student['last_semester'].split(\" \")[2] == \"2\"):\n",
    "        years += 0.5\n",
    "    elif student['last_year'] == student['last_year2'] and (student['last_semester2'].split(\" \")[2] == \"printemps\" \n",
    "                                                            or student['last_semester2'].split(\" \")[2] == \"2\"):\n",
    "        years += 0.5\n",
    "    \n",
    "    if not (student['last_semester'].startswith(\"Projet\") or student['last_semester2'].startswith(\"Projet\")):\n",
    "        years += 0.5\n",
    "    \n",
    "    return int(years * 2)"
   ]
  },
  {
   "cell_type": "code",
   "execution_count": 83,
   "metadata": {
    "collapsed": false
   },
   "outputs": [
    {
     "data": {
      "text/html": [
       "<div>\n",
       "<table border=\"1\" class=\"dataframe\">\n",
       "  <thead>\n",
       "    <tr style=\"text-align: right;\">\n",
       "      <th></th>\n",
       "      <th>actual_sems</th>\n",
       "    </tr>\n",
       "    <tr>\n",
       "      <th>sciper</th>\n",
       "      <th></th>\n",
       "    </tr>\n",
       "  </thead>\n",
       "  <tbody>\n",
       "    <tr>\n",
       "      <th>153066</th>\n",
       "      <td>7</td>\n",
       "    </tr>\n",
       "    <tr>\n",
       "      <th>180027</th>\n",
       "      <td>3</td>\n",
       "    </tr>\n",
       "    <tr>\n",
       "      <th>152232</th>\n",
       "      <td>4</td>\n",
       "    </tr>\n",
       "    <tr>\n",
       "      <th>177395</th>\n",
       "      <td>4</td>\n",
       "    </tr>\n",
       "    <tr>\n",
       "      <th>161970</th>\n",
       "      <td>4</td>\n",
       "    </tr>\n",
       "  </tbody>\n",
       "</table>\n",
       "</div>"
      ],
      "text/plain": [
       "        actual_sems\n",
       "sciper             \n",
       "153066            7\n",
       "180027            3\n",
       "152232            4\n",
       "177395            4\n",
       "161970            4"
      ]
     },
     "execution_count": 83,
     "metadata": {},
     "output_type": "execute_result"
    }
   ],
   "source": [
    "actual_sems = first_last_semesters_df.apply(get_time_taken, axis=1)\n",
    "actual_sems_df = pd.DataFrame(actual_sems)\n",
    "actual_sems_df.rename(columns = {0:'actual_sems'},inplace=True)\n",
    "actual_sems_df.head()"
   ]
  },
  {
   "cell_type": "markdown",
   "metadata": {},
   "source": [
    "Here we concatenate the 3 relevant columns, showing the minimum number of semesters each student needs, the number of semester that student appears registered in, and the actual number of semesters between his enrollment date until his graduation date."
   ]
  },
  {
   "cell_type": "code",
   "execution_count": 85,
   "metadata": {
    "collapsed": false
   },
   "outputs": [
    {
     "data": {
      "text/html": [
       "<div>\n",
       "<table border=\"1\" class=\"dataframe\">\n",
       "  <thead>\n",
       "    <tr style=\"text-align: right;\">\n",
       "      <th></th>\n",
       "      <th>min_sems</th>\n",
       "      <th>registered_sems</th>\n",
       "      <th>actual_sems</th>\n",
       "      <th>sex</th>\n",
       "    </tr>\n",
       "    <tr>\n",
       "      <th>sciper</th>\n",
       "      <th></th>\n",
       "      <th></th>\n",
       "      <th></th>\n",
       "      <th></th>\n",
       "    </tr>\n",
       "  </thead>\n",
       "  <tbody>\n",
       "    <tr>\n",
       "      <th>146330</th>\n",
       "      <td>3</td>\n",
       "      <td>3.0</td>\n",
       "      <td>4</td>\n",
       "      <td>M</td>\n",
       "    </tr>\n",
       "    <tr>\n",
       "      <th>146742</th>\n",
       "      <td>4</td>\n",
       "      <td>7.0</td>\n",
       "      <td>9</td>\n",
       "      <td>M</td>\n",
       "    </tr>\n",
       "    <tr>\n",
       "      <th>146929</th>\n",
       "      <td>3</td>\n",
       "      <td>2.0</td>\n",
       "      <td>3</td>\n",
       "      <td>M</td>\n",
       "    </tr>\n",
       "    <tr>\n",
       "      <th>147008</th>\n",
       "      <td>5</td>\n",
       "      <td>4.0</td>\n",
       "      <td>5</td>\n",
       "      <td>M</td>\n",
       "    </tr>\n",
       "    <tr>\n",
       "      <th>152232</th>\n",
       "      <td>4</td>\n",
       "      <td>3.0</td>\n",
       "      <td>4</td>\n",
       "      <td>M</td>\n",
       "    </tr>\n",
       "  </tbody>\n",
       "</table>\n",
       "</div>"
      ],
      "text/plain": [
       "        min_sems  registered_sems  actual_sems sex\n",
       "sciper                                            \n",
       "146330         3              3.0            4   M\n",
       "146742         4              7.0            9   M\n",
       "146929         3              2.0            3   M\n",
       "147008         5              4.0            5   M\n",
       "152232         4              3.0            4   M"
      ]
     },
     "execution_count": 85,
     "metadata": {},
     "output_type": "execute_result"
    }
   ],
   "source": [
    "sems_per_student = pd.concat([min_sems_df, registered_sems_df, actual_sems_df, first_last_semesters_df['sex']], axis=1)\n",
    "sems_per_student.dropna(inplace=True)\n",
    "sems_per_student.index.name = 'sciper'\n",
    "sems_per_student_final = sems_per_student[sems_per_student['actual_sems'] >= sems_per_student['min_sems']]\n",
    "sems_per_student_final.head()"
   ]
  },
  {
   "cell_type": "markdown",
   "metadata": {},
   "source": [
    "The average number of semesters is then"
   ]
  },
  {
   "cell_type": "code",
   "execution_count": 86,
   "metadata": {
    "collapsed": false
   },
   "outputs": [
    {
     "data": {
      "text/plain": [
       "4.254934210526316"
      ]
     },
     "execution_count": 86,
     "metadata": {},
     "output_type": "execute_result"
    }
   ],
   "source": [
    "sems_per_student_final['actual_sems'].mean()"
   ]
  },
  {
   "cell_type": "code",
   "execution_count": 87,
   "metadata": {
    "collapsed": false
   },
   "outputs": [
    {
     "data": {
      "text/plain": [
       "<matplotlib.axes._subplots.AxesSubplot at 0x7f215d5aae48>"
      ]
     },
     "execution_count": 87,
     "metadata": {},
     "output_type": "execute_result"
    },
    {
     "data": {
      "image/png": "[encoded data removed]",
      "text/plain": [
       "<matplotlib.figure.Figure at 0x7f21604aa7b8>"
      ]
     },
     "metadata": {},
     "output_type": "display_data"
    }
   ],
   "source": [
    "sems_per_student_final['actual_sems'].hist(bins = len(sems_per_student_final['actual_sems'].value_counts()))"
   ]
  },
  {
   "cell_type": "markdown",
   "metadata": {},
   "source": [
    "<hr>\n",
    "_Extract all the students with a Spécialisation and compute the \"average stay\" per each category of that attribute_ "
   ]
  },
  {
   "cell_type": "markdown",
   "metadata": {
    "collapsed": true
   },
   "source": [
    "First, we find all specializations"
   ]
  },
  {
   "cell_type": "code",
   "execution_count": 88,
   "metadata": {
    "collapsed": false
   },
   "outputs": [
    {
     "data": {
      "text/plain": [
       "['No',\n",
       " 'Internet computing',\n",
       " 'Foundations of Software',\n",
       " 'Signals, Images and Interfaces',\n",
       " 'Computer Engineering - SP',\n",
       " 'Software Systems',\n",
       " 'Biocomputing',\n",
       " 'Information Security - SP',\n",
       " 'Data Analytics',\n",
       " 'Service science',\n",
       " 'Computer Science Theory',\n",
       " 'Internet Information Systems']"
      ]
     },
     "execution_count": 88,
     "metadata": {},
     "output_type": "execute_result"
    }
   ],
   "source": [
    "all_specials = all_masters_final['specialization'].value_counts().index.tolist()\n",
    "all_specials"
   ]
  },
  {
   "cell_type": "markdown",
   "metadata": {},
   "source": [
    "For each specialization, we collect all students for that specialization. Then, we obtain the time spent by each student and average time per specialization."
   ]
  },
  {
   "cell_type": "code",
   "execution_count": 95,
   "metadata": {
    "collapsed": false
   },
   "outputs": [],
   "source": [
    "sems_per_student_noindx = sems_per_student_final.reset_index()\n",
    "sems_by_special = {}\n",
    "avg_by_special = {}\n",
    "\n",
    "for special in all_specials:\n",
    "    scipers_by_special = all_masters_noindex.sciper[all_masters_noindex.specialization == special]\n",
    "    sems_by_special[special] = sems_per_student_noindx[sems_per_student_noindx.sciper.isin(scipers_by_special)]\n",
    "    avg_by_special[special] = sems_by_special[special].actual_sems.mean()"
   ]
  },
  {
   "cell_type": "code",
   "execution_count": 96,
   "metadata": {
    "collapsed": false
   },
   "outputs": [
    {
     "data": {
      "text/plain": [
       "{'Biocomputing': 5.0,\n",
       " 'Computer Engineering - SP': 4.461538461538462,\n",
       " 'Computer Science Theory': nan,\n",
       " 'Data Analytics': nan,\n",
       " 'Foundations of Software': 4.88,\n",
       " 'Information Security - SP': 5.0,\n",
       " 'Internet Information Systems': nan,\n",
       " 'Internet computing': 4.837837837837838,\n",
       " 'No': 4.213780918727915,\n",
       " 'Service science': 4.6,\n",
       " 'Signals, Images and Interfaces': 5.380952380952381,\n",
       " 'Software Systems': 4.6}"
      ]
     },
     "execution_count": 96,
     "metadata": {},
     "output_type": "execute_result"
    }
   ],
   "source": [
    "avg_by_special"
   ]
  },
  {
   "cell_type": "code",
   "execution_count": 97,
   "metadata": {
    "collapsed": false
   },
   "outputs": [
    {
     "data": {
      "text/html": [
       "<div>\n",
       "<table border=\"1\" class=\"dataframe\">\n",
       "  <thead>\n",
       "    <tr style=\"text-align: right;\">\n",
       "      <th>specialization</th>\n",
       "      <th>average_stay</th>\n",
       "    </tr>\n",
       "  </thead>\n",
       "  <tbody>\n",
       "    <tr>\n",
       "      <th>Biocomputing</th>\n",
       "      <td>5.000000</td>\n",
       "    </tr>\n",
       "    <tr>\n",
       "      <th>Foundations of Software</th>\n",
       "      <td>4.880000</td>\n",
       "    </tr>\n",
       "    <tr>\n",
       "      <th>No</th>\n",
       "      <td>4.213781</td>\n",
       "    </tr>\n",
       "    <tr>\n",
       "      <th>Computer Engineering - SP</th>\n",
       "      <td>4.461538</td>\n",
       "    </tr>\n",
       "    <tr>\n",
       "      <th>Service science</th>\n",
       "      <td>4.600000</td>\n",
       "    </tr>\n",
       "    <tr>\n",
       "      <th>Signals, Images and Interfaces</th>\n",
       "      <td>5.380952</td>\n",
       "    </tr>\n",
       "    <tr>\n",
       "      <th>Software Systems</th>\n",
       "      <td>4.600000</td>\n",
       "    </tr>\n",
       "    <tr>\n",
       "      <th>Information Security - SP</th>\n",
       "      <td>5.000000</td>\n",
       "    </tr>\n",
       "    <tr>\n",
       "      <th>Internet computing</th>\n",
       "      <td>4.837838</td>\n",
       "    </tr>\n",
       "  </tbody>\n",
       "</table>\n",
       "</div>"
      ],
      "text/plain": [
       "specialization                  average_stay\n",
       "Biocomputing                        5.000000\n",
       "Foundations of Software             4.880000\n",
       "No                                  4.213781\n",
       "Computer Engineering - SP           4.461538\n",
       "Service science                     4.600000\n",
       "Signals, Images and Interfaces      5.380952\n",
       "Software Systems                    4.600000\n",
       "Information Security - SP           5.000000\n",
       "Internet computing                  4.837838"
      ]
     },
     "execution_count": 97,
     "metadata": {},
     "output_type": "execute_result"
    }
   ],
   "source": [
    "avg_by_special_df = pd.DataFrame.from_dict(avg_by_special, orient='index')\n",
    "avg_by_special_df.dropna(inplace=True)\n",
    "avg_by_special_df.columns.name = 'specialization'\n",
    "avg_by_special_df.rename(columns = {0:'average_stay'}, inplace=True)\n",
    "avg_by_special_df"
   ]
  },
  {
   "cell_type": "markdown",
   "metadata": {},
   "source": [
    "_Compared to the general average, can you find any specialization for which the difference in average is statistically significant?_"
   ]
  },
  {
   "cell_type": "code",
   "execution_count": 98,
   "metadata": {
    "collapsed": false
   },
   "outputs": [
    {
     "data": {
      "text/plain": [
       "0.21432948561450288"
      ]
     },
     "execution_count": 98,
     "metadata": {},
     "output_type": "execute_result"
    }
   ],
   "source": [
    "sp.stats.mannwhitneyu(sems_per_student_final.actual_sems, sems_by_special['No'].actual_sems)[1]"
   ]
  },
  {
   "cell_type": "code",
   "execution_count": 99,
   "metadata": {
    "collapsed": false
   },
   "outputs": [],
   "source": [
    "p_value = {}\n",
    "\n",
    "for special in all_specials:\n",
    "    p_value[special] = sp.stats.mannwhitneyu(sems_per_student_final.actual_sems, sems_by_special[special].actual_sems)[1]"
   ]
  },
  {
   "cell_type": "code",
   "execution_count": 100,
   "metadata": {
    "collapsed": false
   },
   "outputs": [
    {
     "data": {
      "text/html": [
       "<div>\n",
       "<table border=\"1\" class=\"dataframe\">\n",
       "  <thead>\n",
       "    <tr style=\"text-align: right;\">\n",
       "      <th>specialization</th>\n",
       "      <th>average_stay</th>\n",
       "    </tr>\n",
       "  </thead>\n",
       "  <tbody>\n",
       "    <tr>\n",
       "      <th>Biocomputing</th>\n",
       "      <td>8.568469e-02</td>\n",
       "    </tr>\n",
       "    <tr>\n",
       "      <th>Foundations of Software</th>\n",
       "      <td>4.676758e-06</td>\n",
       "    </tr>\n",
       "    <tr>\n",
       "      <th>No</th>\n",
       "      <td>2.143295e-01</td>\n",
       "    </tr>\n",
       "    <tr>\n",
       "      <th>Computer Engineering - SP</th>\n",
       "      <td>1.133502e-01</td>\n",
       "    </tr>\n",
       "    <tr>\n",
       "      <th>Service science</th>\n",
       "      <td>1.971484e-01</td>\n",
       "    </tr>\n",
       "    <tr>\n",
       "      <th>Signals, Images and Interfaces</th>\n",
       "      <td>7.042186e-06</td>\n",
       "    </tr>\n",
       "    <tr>\n",
       "      <th>Software Systems</th>\n",
       "      <td>5.493946e-02</td>\n",
       "    </tr>\n",
       "    <tr>\n",
       "      <th>Internet Information Systems</th>\n",
       "      <td>0.000000e+00</td>\n",
       "    </tr>\n",
       "    <tr>\n",
       "      <th>Data Analytics</th>\n",
       "      <td>0.000000e+00</td>\n",
       "    </tr>\n",
       "    <tr>\n",
       "      <th>Information Security - SP</th>\n",
       "      <td>7.848078e-02</td>\n",
       "    </tr>\n",
       "    <tr>\n",
       "      <th>Computer Science Theory</th>\n",
       "      <td>0.000000e+00</td>\n",
       "    </tr>\n",
       "    <tr>\n",
       "      <th>Internet computing</th>\n",
       "      <td>3.784810e-07</td>\n",
       "    </tr>\n",
       "  </tbody>\n",
       "</table>\n",
       "</div>"
      ],
      "text/plain": [
       "specialization                  average_stay\n",
       "Biocomputing                    8.568469e-02\n",
       "Foundations of Software         4.676758e-06\n",
       "No                              2.143295e-01\n",
       "Computer Engineering - SP       1.133502e-01\n",
       "Service science                 1.971484e-01\n",
       "Signals, Images and Interfaces  7.042186e-06\n",
       "Software Systems                5.493946e-02\n",
       "Internet Information Systems    0.000000e+00\n",
       "Data Analytics                  0.000000e+00\n",
       "Information Security - SP       7.848078e-02\n",
       "Computer Science Theory         0.000000e+00\n",
       "Internet computing              3.784810e-07"
      ]
     },
     "execution_count": 100,
     "metadata": {},
     "output_type": "execute_result"
    }
   ],
   "source": [
    "p_value_df = pd.DataFrame.from_dict(p_value, orient = 'index')\n",
    "p_value_df.columns.name = 'specialization'\n",
    "p_value_df.rename(columns = {0:'average_stay'}, inplace=True)\n",
    "p_value_df"
   ]
  },
  {
   "cell_type": "markdown",
   "metadata": {},
   "source": [
    "<hr><hr>\n",
    "# Assignment 3"
   ]
  },
  {
   "cell_type": "markdown",
   "metadata": {},
   "source": [
    "_Perform the gender-based study also on the Master students, as explained in 1.<br>\n",
    "Use scatterplots to visually identify changes over time. Plot males and females with different colors_"
   ]
  },
  {
   "cell_type": "markdown",
   "metadata": {},
   "source": [
    "We will use the last DataFrame that consists of the masters students that we considered in our previous statistic."
   ]
  },
  {
   "cell_type": "code",
   "execution_count": 101,
   "metadata": {
    "collapsed": false,
    "scrolled": true
   },
   "outputs": [
    {
     "data": {
      "text/html": [
       "<div>\n",
       "<table border=\"1\" class=\"dataframe\">\n",
       "  <thead>\n",
       "    <tr style=\"text-align: right;\">\n",
       "      <th></th>\n",
       "      <th>min_sems</th>\n",
       "      <th>registered_sems</th>\n",
       "      <th>actual_sems</th>\n",
       "      <th>sex</th>\n",
       "    </tr>\n",
       "    <tr>\n",
       "      <th>sciper</th>\n",
       "      <th></th>\n",
       "      <th></th>\n",
       "      <th></th>\n",
       "      <th></th>\n",
       "    </tr>\n",
       "  </thead>\n",
       "  <tbody>\n",
       "    <tr>\n",
       "      <th>146330</th>\n",
       "      <td>3</td>\n",
       "      <td>3.0</td>\n",
       "      <td>4</td>\n",
       "      <td>M</td>\n",
       "    </tr>\n",
       "    <tr>\n",
       "      <th>146742</th>\n",
       "      <td>4</td>\n",
       "      <td>7.0</td>\n",
       "      <td>9</td>\n",
       "      <td>M</td>\n",
       "    </tr>\n",
       "    <tr>\n",
       "      <th>146929</th>\n",
       "      <td>3</td>\n",
       "      <td>2.0</td>\n",
       "      <td>3</td>\n",
       "      <td>M</td>\n",
       "    </tr>\n",
       "    <tr>\n",
       "      <th>147008</th>\n",
       "      <td>5</td>\n",
       "      <td>4.0</td>\n",
       "      <td>5</td>\n",
       "      <td>M</td>\n",
       "    </tr>\n",
       "    <tr>\n",
       "      <th>152232</th>\n",
       "      <td>4</td>\n",
       "      <td>3.0</td>\n",
       "      <td>4</td>\n",
       "      <td>M</td>\n",
       "    </tr>\n",
       "  </tbody>\n",
       "</table>\n",
       "</div>"
      ],
      "text/plain": [
       "        min_sems  registered_sems  actual_sems sex\n",
       "sciper                                            \n",
       "146330         3              3.0            4   M\n",
       "146742         4              7.0            9   M\n",
       "146929         3              2.0            3   M\n",
       "147008         5              4.0            5   M\n",
       "152232         4              3.0            4   M"
      ]
     },
     "execution_count": 101,
     "metadata": {},
     "output_type": "execute_result"
    }
   ],
   "source": [
    "sems_per_student_final.head()"
   ]
  },
  {
   "cell_type": "markdown",
   "metadata": {},
   "source": [
    "We concatenate it with the `first_year` column from the following DataFrame."
   ]
  },
  {
   "cell_type": "code",
   "execution_count": 102,
   "metadata": {
    "collapsed": false,
    "scrolled": true
   },
   "outputs": [
    {
     "data": {
      "text/html": [
       "<div>\n",
       "<table border=\"1\" class=\"dataframe\">\n",
       "  <thead>\n",
       "    <tr style=\"text-align: right;\">\n",
       "      <th></th>\n",
       "      <th>first_semester</th>\n",
       "      <th>first_year</th>\n",
       "      <th>last_semester</th>\n",
       "      <th>last_semester2</th>\n",
       "      <th>last_year</th>\n",
       "      <th>last_year2</th>\n",
       "      <th>sex</th>\n",
       "    </tr>\n",
       "    <tr>\n",
       "      <th>sciper</th>\n",
       "      <th></th>\n",
       "      <th></th>\n",
       "      <th></th>\n",
       "      <th></th>\n",
       "      <th></th>\n",
       "      <th></th>\n",
       "      <th></th>\n",
       "    </tr>\n",
       "  </thead>\n",
       "  <tbody>\n",
       "    <tr>\n",
       "      <th>153066</th>\n",
       "      <td>Master semestre 1</td>\n",
       "      <td>2007</td>\n",
       "      <td>Master semestre 3</td>\n",
       "      <td>Master semestre 2</td>\n",
       "      <td>2009</td>\n",
       "      <td>2009</td>\n",
       "      <td>M</td>\n",
       "    </tr>\n",
       "    <tr>\n",
       "      <th>180027</th>\n",
       "      <td>Master semestre 1</td>\n",
       "      <td>2007</td>\n",
       "      <td>Projet Master automne</td>\n",
       "      <td>Master semestre 2</td>\n",
       "      <td>2008</td>\n",
       "      <td>2007</td>\n",
       "      <td>F</td>\n",
       "    </tr>\n",
       "    <tr>\n",
       "      <th>152232</th>\n",
       "      <td>Master semestre 1</td>\n",
       "      <td>2007</td>\n",
       "      <td>Master semestre 3</td>\n",
       "      <td>Master semestre 2</td>\n",
       "      <td>2008</td>\n",
       "      <td>2007</td>\n",
       "      <td>M</td>\n",
       "    </tr>\n",
       "    <tr>\n",
       "      <th>177395</th>\n",
       "      <td>Master semestre 1</td>\n",
       "      <td>2007</td>\n",
       "      <td>Master semestre 3</td>\n",
       "      <td>Master semestre 2</td>\n",
       "      <td>2008</td>\n",
       "      <td>2007</td>\n",
       "      <td>M</td>\n",
       "    </tr>\n",
       "    <tr>\n",
       "      <th>161970</th>\n",
       "      <td>Master semestre 1</td>\n",
       "      <td>2007</td>\n",
       "      <td>Master semestre 3</td>\n",
       "      <td>Master semestre 2</td>\n",
       "      <td>2008</td>\n",
       "      <td>2007</td>\n",
       "      <td>M</td>\n",
       "    </tr>\n",
       "  </tbody>\n",
       "</table>\n",
       "</div>"
      ],
      "text/plain": [
       "           first_semester  first_year          last_semester  \\\n",
       "sciper                                                         \n",
       "153066  Master semestre 1        2007      Master semestre 3   \n",
       "180027  Master semestre 1        2007  Projet Master automne   \n",
       "152232  Master semestre 1        2007      Master semestre 3   \n",
       "177395  Master semestre 1        2007      Master semestre 3   \n",
       "161970  Master semestre 1        2007      Master semestre 3   \n",
       "\n",
       "           last_semester2  last_year  last_year2 sex  \n",
       "sciper                                                \n",
       "153066  Master semestre 2       2009        2009   M  \n",
       "180027  Master semestre 2       2008        2007   F  \n",
       "152232  Master semestre 2       2008        2007   M  \n",
       "177395  Master semestre 2       2008        2007   M  \n",
       "161970  Master semestre 2       2008        2007   M  "
      ]
     },
     "execution_count": 102,
     "metadata": {},
     "output_type": "execute_result"
    }
   ],
   "source": [
    "first_last_semesters_df.head()"
   ]
  },
  {
   "cell_type": "code",
   "execution_count": 103,
   "metadata": {
    "collapsed": false,
    "scrolled": true
   },
   "outputs": [
    {
     "data": {
      "text/html": [
       "<div>\n",
       "<table border=\"1\" class=\"dataframe\">\n",
       "  <thead>\n",
       "    <tr style=\"text-align: right;\">\n",
       "      <th></th>\n",
       "      <th>actual_sems</th>\n",
       "      <th>sex</th>\n",
       "      <th>first_year</th>\n",
       "    </tr>\n",
       "  </thead>\n",
       "  <tbody>\n",
       "    <tr>\n",
       "      <th>146330</th>\n",
       "      <td>4.0</td>\n",
       "      <td>M</td>\n",
       "      <td>2007</td>\n",
       "    </tr>\n",
       "    <tr>\n",
       "      <th>146742</th>\n",
       "      <td>9.0</td>\n",
       "      <td>M</td>\n",
       "      <td>2008</td>\n",
       "    </tr>\n",
       "    <tr>\n",
       "      <th>146929</th>\n",
       "      <td>3.0</td>\n",
       "      <td>M</td>\n",
       "      <td>2007</td>\n",
       "    </tr>\n",
       "    <tr>\n",
       "      <th>147008</th>\n",
       "      <td>5.0</td>\n",
       "      <td>M</td>\n",
       "      <td>2011</td>\n",
       "    </tr>\n",
       "    <tr>\n",
       "      <th>152232</th>\n",
       "      <td>4.0</td>\n",
       "      <td>M</td>\n",
       "      <td>2007</td>\n",
       "    </tr>\n",
       "  </tbody>\n",
       "</table>\n",
       "</div>"
      ],
      "text/plain": [
       "        actual_sems sex  first_year\n",
       "146330          4.0   M        2007\n",
       "146742          9.0   M        2008\n",
       "146929          3.0   M        2007\n",
       "147008          5.0   M        2011\n",
       "152232          4.0   M        2007"
      ]
     },
     "execution_count": 103,
     "metadata": {},
     "output_type": "execute_result"
    }
   ],
   "source": [
    "first_year_and_semesters = pd.concat([sems_per_student_final[['actual_sems', 'sex']], first_last_semesters_df['first_year']], axis=1)\n",
    "first_year_and_semesters.dropna(inplace=True)\n",
    "first_year_and_semesters.head()"
   ]
  },
  {
   "cell_type": "markdown",
   "metadata": {
    "collapsed": true
   },
   "source": [
    "<hr>\n",
    "_Partition the data between male and female students, and compute the average._"
   ]
  },
  {
   "cell_type": "code",
   "execution_count": 104,
   "metadata": {
    "collapsed": false
   },
   "outputs": [
    {
     "data": {
      "text/html": [
       "<div>\n",
       "<table border=\"1\" class=\"dataframe\">\n",
       "  <thead>\n",
       "    <tr style=\"text-align: right;\">\n",
       "      <th></th>\n",
       "      <th>actual_sems</th>\n",
       "      <th>sex</th>\n",
       "      <th>first_year</th>\n",
       "    </tr>\n",
       "  </thead>\n",
       "  <tbody>\n",
       "    <tr>\n",
       "      <th>146330</th>\n",
       "      <td>4.0</td>\n",
       "      <td>M</td>\n",
       "      <td>2007</td>\n",
       "    </tr>\n",
       "    <tr>\n",
       "      <th>146742</th>\n",
       "      <td>9.0</td>\n",
       "      <td>M</td>\n",
       "      <td>2008</td>\n",
       "    </tr>\n",
       "    <tr>\n",
       "      <th>146929</th>\n",
       "      <td>3.0</td>\n",
       "      <td>M</td>\n",
       "      <td>2007</td>\n",
       "    </tr>\n",
       "    <tr>\n",
       "      <th>147008</th>\n",
       "      <td>5.0</td>\n",
       "      <td>M</td>\n",
       "      <td>2011</td>\n",
       "    </tr>\n",
       "    <tr>\n",
       "      <th>152232</th>\n",
       "      <td>4.0</td>\n",
       "      <td>M</td>\n",
       "      <td>2007</td>\n",
       "    </tr>\n",
       "  </tbody>\n",
       "</table>\n",
       "</div>"
      ],
      "text/plain": [
       "        actual_sems sex  first_year\n",
       "146330          4.0   M        2007\n",
       "146742          9.0   M        2008\n",
       "146929          3.0   M        2007\n",
       "147008          5.0   M        2011\n",
       "152232          4.0   M        2007"
      ]
     },
     "execution_count": 104,
     "metadata": {},
     "output_type": "execute_result"
    }
   ],
   "source": [
    "guys_data = first_year_and_semesters[first_year_and_semesters.sex.isin(['M'])]\n",
    "guys_data.head()"
   ]
  },
  {
   "cell_type": "code",
   "execution_count": 105,
   "metadata": {
    "collapsed": false
   },
   "outputs": [
    {
     "data": {
      "text/html": [
       "<div>\n",
       "<table border=\"1\" class=\"dataframe\">\n",
       "  <thead>\n",
       "    <tr style=\"text-align: right;\">\n",
       "      <th></th>\n",
       "      <th>actual_sems</th>\n",
       "      <th>sex</th>\n",
       "      <th>first_year</th>\n",
       "    </tr>\n",
       "  </thead>\n",
       "  <tbody>\n",
       "    <tr>\n",
       "      <th>154573</th>\n",
       "      <td>6.0</td>\n",
       "      <td>F</td>\n",
       "      <td>2007</td>\n",
       "    </tr>\n",
       "    <tr>\n",
       "      <th>159998</th>\n",
       "      <td>4.0</td>\n",
       "      <td>F</td>\n",
       "      <td>2008</td>\n",
       "    </tr>\n",
       "    <tr>\n",
       "      <th>160148</th>\n",
       "      <td>4.0</td>\n",
       "      <td>F</td>\n",
       "      <td>2007</td>\n",
       "    </tr>\n",
       "    <tr>\n",
       "      <th>161024</th>\n",
       "      <td>3.0</td>\n",
       "      <td>F</td>\n",
       "      <td>2007</td>\n",
       "    </tr>\n",
       "    <tr>\n",
       "      <th>161091</th>\n",
       "      <td>5.0</td>\n",
       "      <td>F</td>\n",
       "      <td>2008</td>\n",
       "    </tr>\n",
       "  </tbody>\n",
       "</table>\n",
       "</div>"
      ],
      "text/plain": [
       "        actual_sems sex  first_year\n",
       "154573          6.0   F        2007\n",
       "159998          4.0   F        2008\n",
       "160148          4.0   F        2007\n",
       "161024          3.0   F        2007\n",
       "161091          5.0   F        2008"
      ]
     },
     "execution_count": 105,
     "metadata": {},
     "output_type": "execute_result"
    }
   ],
   "source": [
    "girls_data = first_year_and_semesters[first_year_and_semesters.sex.isin(['F'])]\n",
    "girls_data.head()"
   ]
  },
  {
   "cell_type": "markdown",
   "metadata": {},
   "source": [
    "Compute the average number of semesters for male students."
   ]
  },
  {
   "cell_type": "code",
   "execution_count": 107,
   "metadata": {
    "collapsed": false,
    "scrolled": true
   },
   "outputs": [
    {
     "data": {
      "text/plain": [
       "4.0    257\n",
       "5.0    154\n",
       "3.0    137\n",
       "6.0     46\n",
       "7.0     11\n",
       "8.0      2\n",
       "9.0      1\n",
       "Name: actual_sems, dtype: int64"
      ]
     },
     "execution_count": 107,
     "metadata": {},
     "output_type": "execute_result"
    }
   ],
   "source": [
    "first_year_and_semesters['actual_sems'].value_counts()"
   ]
  },
  {
   "cell_type": "code",
   "execution_count": 108,
   "metadata": {
    "collapsed": false
   },
   "outputs": [
    {
     "data": {
      "text/plain": [
       "4.246679316888046"
      ]
     },
     "execution_count": 108,
     "metadata": {},
     "output_type": "execute_result"
    }
   ],
   "source": [
    "guys_time = guys_data['actual_sems']\n",
    "avg_guys_time = guys_time.mean()\n",
    "avg_guys_time"
   ]
  },
  {
   "cell_type": "markdown",
   "metadata": {},
   "source": [
    "Compute the average number of semesters for female students."
   ]
  },
  {
   "cell_type": "code",
   "execution_count": 109,
   "metadata": {
    "collapsed": false
   },
   "outputs": [
    {
     "data": {
      "text/plain": [
       "4.308641975308642"
      ]
     },
     "execution_count": 109,
     "metadata": {},
     "output_type": "execute_result"
    }
   ],
   "source": [
    "girls_time = girls_data['actual_sems']\n",
    "avg_girls_time = girls_time.mean()\n",
    "avg_girls_time"
   ]
  },
  {
   "cell_type": "markdown",
   "metadata": {},
   "source": [
    "As explained in assignment 1, the Mann-Whitney-U test is the most suitable. Here, however, it shows **no statiscal significance** of the difference in the mean."
   ]
  },
  {
   "cell_type": "code",
   "execution_count": 110,
   "metadata": {
    "collapsed": false
   },
   "outputs": [
    {
     "data": {
      "text/plain": [
       "MannwhitneyuResult(statistic=20682.5, pvalue=0.317753739208472)"
      ]
     },
     "execution_count": 110,
     "metadata": {},
     "output_type": "execute_result"
    }
   ],
   "source": [
    "sp.stats.mannwhitneyu(guys_time, girls_time)"
   ]
  },
  {
   "cell_type": "markdown",
   "metadata": {},
   "source": [
    "In order to scatter plot discrete values and have a meaningful plot, we use two techniques:<br>\n",
    "First, we add jitter to all the data, so as to displace the data points, resulting in a wider area for the data points with higher frequency.<br>\n",
    "Second, we use a list of circle sizes created from the value counts in each case.<br>\n",
    "We will use this after computing the average."
   ]
  },
  {
   "cell_type": "code",
   "execution_count": 111,
   "metadata": {
    "collapsed": true
   },
   "outputs": [],
   "source": [
    "def jitter(x):\n",
    "    stdev = 0.01*(max(x)-min(x))\n",
    "    return x + np.random.randn(len(x)) * stdev"
   ]
  },
  {
   "cell_type": "code",
   "execution_count": 113,
   "metadata": {
    "collapsed": false
   },
   "outputs": [
    {
     "data": {
      "text/plain": [
       "<matplotlib.collections.PathCollection at 0x7f215d216a58>"
      ]
     },
     "execution_count": 113,
     "metadata": {},
     "output_type": "execute_result"
    },
    {
     "data": {
      "image/png": "[encoded data removed]",
      "text/plain": [
       "<matplotlib.figure.Figure at 0x7f215d24ac50>"
      ]
     },
     "metadata": {},
     "output_type": "display_data"
    }
   ],
   "source": [
    "plt.scatter(jitter(guys_data['first_year']), jitter(guys_data['actual_sems']))\n",
    "plt.scatter(jitter(girls_data['first_year']), jitter(girls_data['actual_sems']), color='red')"
   ]
  },
  {
   "cell_type": "code",
   "execution_count": 115,
   "metadata": {
    "collapsed": false
   },
   "outputs": [
    {
     "data": {
      "text/plain": [
       "<matplotlib.collections.PathCollection at 0x7f215d0f4e48>"
      ]
     },
     "execution_count": 115,
     "metadata": {},
     "output_type": "execute_result"
    },
    {
     "data": {
      "image/png": "[encoded data removed]",
      "text/plain": [
       "<matplotlib.figure.Figure at 0x7f215d1331d0>"
      ]
     },
     "metadata": {},
     "output_type": "display_data"
    }
   ],
   "source": [
    "plt.figure(figsize=(15,7))\n",
    "\n",
    "first_years = guys_data['first_year']\n",
    "guys_circle_size = [guys_data[first_years == first_years[i]]['first_year'].value_counts()\n",
    "                    [first_years[i]] for i in range(len(guys_data))]\n",
    "guys_circle_size = [x * 10 for x in guys_circle_size]\n",
    "plt.scatter(first_years, guys_data['actual_sems'], guys_circle_size)\n",
    "plt.ylim((2,10))\n",
    "\n",
    "first_years = girls_data['first_year']\n",
    "girls_circle_size = [girls_data[first_years == first_years[i]]['first_year'].value_counts()\n",
    "                     [first_years[i]] for i in range(len(girls_data))]\n",
    "girls_circle_size = [x * 10 for x in girls_circle_size]\n",
    "plt.scatter(first_years, girls_data['actual_sems'], girls_circle_size, color='red')"
   ]
  },
  {
   "cell_type": "code",
   "execution_count": 116,
   "metadata": {
    "collapsed": false
   },
   "outputs": [
    {
     "data": {
      "text/plain": [
       "(2, 10)"
      ]
     },
     "execution_count": 116,
     "metadata": {},
     "output_type": "execute_result"
    },
    {
     "data": {
      "image/png": "[encoded data removed]",
      "text/plain": [
       "<matplotlib.figure.Figure at 0x7f215d119400>"
      ]
     },
     "metadata": {},
     "output_type": "display_data"
    }
   ],
   "source": [
    "plt.figure(figsize=(20,10))\n",
    "\n",
    "first_years = guys_data['first_year']\n",
    "guys_circle_size = guys_circle_size / max(guys_circle_size)\n",
    "guys_circle_size = [x * 750 for x in guys_circle_size]\n",
    "plt.subplot(1,2,1)\n",
    "plt.scatter(first_years, guys_data['actual_sems'], guys_circle_size)\n",
    "plt.ylim((2,10))\n",
    "\n",
    "first_years = girls_data['first_year']\n",
    "girls_circle_size = girls_circle_size / max(girls_circle_size)\n",
    "girls_circle_size = [x * 750 for x in girls_circle_size]\n",
    "plt.subplot(1,2,2)\n",
    "plt.scatter(first_years, girls_data['actual_sems'], girls_circle_size, color='red')\n",
    "plt.ylim((2,10))"
   ]
  },
  {
   "cell_type": "markdown",
   "metadata": {},
   "source": [
    "_Can you spot different trends that match the results of your statistical tests?_"
   ]
  },
  {
   "cell_type": "markdown",
   "metadata": {},
   "source": [
    "The statiscal test shows no statistical significance in the difference of mean between girls and guys. The scatter plots above also don't show any clear trend in that regard. It does show, however, that the number of enrollments in 2010 is higher than the other years."
   ]
  }
 ],
 "metadata": {
  "anaconda-cloud": {},
  "kernelspec": {
   "display_name": "Python [Root]",
   "language": "python",
   "name": "Python [Root]"
  },
  "language_info": {
   "codemirror_mode": {
    "name": "ipython",
    "version": 3
   },
   "file_extension": ".py",
   "mimetype": "text/x-python",
   "name": "python",
   "nbconvert_exporter": "python",
   "pygments_lexer": "ipython3",
   "version": "3.5.2"
  }
 },
 "nbformat": 4,
 "nbformat_minor": 0
}
