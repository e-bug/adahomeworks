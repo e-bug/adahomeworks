{
 "cells": [
  {
   "cell_type": "markdown",
   "metadata": {},
   "source": [
    "# Homework 3\n",
    "In this homework, we analyze the data of grants awarded by the Swiss NSF to Swiss universities.<br>\n",
    "We map each university to its respective Swiss canton, disregarding institutions and entities outside Switzerland. Then, we calculate the total sum of grant amounts awarded to each Swiss canton by SNSF. We present the data on a Choropleth map."
   ]
  },
  {
   "cell_type": "markdown",
   "metadata": {},
   "source": [
    "## Data Aquisition and Wrangling\n",
    "We start by importing the required modules."
   ]
  },
  {
   "cell_type": "code",
   "execution_count": null,
   "metadata": {
    "collapsed": false
   },
   "outputs": [],
   "source": [
    "import pandas as pd\n",
    "import requests\n",
    "import folium\n",
    "import geocoder\n",
    "import json\n",
    "import googlemaps\n",
    "import geopandas"
   ]
  },
  {
   "cell_type": "markdown",
   "metadata": {},
   "source": [
    "We downloaded the SNSF data once from the website and stored them locally using the pickle. We now read them from the pickle format."
   ]
  },
  {
   "cell_type": "code",
   "execution_count": null,
   "metadata": {
    "collapsed": true
   },
   "outputs": [],
   "source": [
    "pubs = pd.read_pickle(\"data/P3_PublicationExport\")\n",
    "ppl = pd.read_pickle(\"data/P3_PersonExport\")\n",
    "grants = pd.read_pickle(\"data/P3_GrantExport\")"
   ]
  },
  {
   "cell_type": "markdown",
   "metadata": {},
   "source": [
    "We first look at the grants DataFrame."
   ]
  },
  {
   "cell_type": "code",
   "execution_count": null,
   "metadata": {
    "collapsed": false
   },
   "outputs": [],
   "source": [
    "grants.head()"
   ]
  },
  {
   "cell_type": "markdown",
   "metadata": {},
   "source": [
    "We realise that we only need three columns from this DataFrame, namely the University and the Approved Amount."
   ]
  },
  {
   "cell_type": "code",
   "execution_count": null,
   "metadata": {
    "collapsed": false
   },
   "outputs": [],
   "source": [
    "grant_useful = grants[[\"University\", \"Approved Amount\"]]\n",
    "grant_useful = grant_useful.rename(columns= {'Approved Amount': 'Amount'})\n",
    "grant_useful.head()"
   ]
  },
  {
   "cell_type": "markdown",
   "metadata": {},
   "source": [
    "Some of the values for University and Amount are not known, so we remove these from consideration."
   ]
  },
  {
   "cell_type": "code",
   "execution_count": null,
   "metadata": {
    "collapsed": false
   },
   "outputs": [],
   "source": [
    "unknown_uni = grant_useful.University.isnull()\n",
    "unknown_amount = grant_useful.Amount.isin(['data not included in P3'])"
   ]
  },
  {
   "cell_type": "code",
   "execution_count": null,
   "metadata": {
    "collapsed": false
   },
   "outputs": [],
   "source": [
    "def goodDataIndex(uni, amt):\n",
    "    ans = []\n",
    "    for i in range(len(uni)):\n",
    "        ans.append(not(uni[i] or amt[i]))\n",
    "    return ans"
   ]
  },
  {
   "cell_type": "code",
   "execution_count": null,
   "metadata": {
    "collapsed": false
   },
   "outputs": [],
   "source": [
    "pick = goodDataIndex(unknown_uni, unknown_amount)"
   ]
  },
  {
   "cell_type": "code",
   "execution_count": null,
   "metadata": {
    "collapsed": false
   },
   "outputs": [],
   "source": [
    "grant_final = grant_useful[pick]"
   ]
  },
  {
   "cell_type": "markdown",
   "metadata": {},
   "source": [
    "From the clean DataFrame of grants, we get the universities present in the data."
   ]
  },
  {
   "cell_type": "code",
   "execution_count": null,
   "metadata": {
    "collapsed": false
   },
   "outputs": [],
   "source": [
    "all_unis = grant_final.University.dropna().unique()"
   ]
  },
  {
   "cell_type": "markdown",
   "metadata": {},
   "source": [
    "Then, we read a csv file containing the names of Swiss cantons, their short names, and their language."
   ]
  },
  {
   "cell_type": "code",
   "execution_count": null,
   "metadata": {
    "collapsed": false
   },
   "outputs": [],
   "source": [
    "cantons = pd.read_csv(\"data/cantons.csv\")\n",
    "cantons.drop(['Canton'], axis=1, inplace=True)\n",
    "cantons.index.name = 'Canton'\n",
    "cantons"
   ]
  },
  {
   "cell_type": "code",
   "execution_count": null,
   "metadata": {
    "collapsed": false
   },
   "outputs": [],
   "source": [
    "cantons_short = cantons['ABBR']\n",
    "cantons_short"
   ]
  },
  {
   "cell_type": "markdown",
   "metadata": {},
   "source": [
    "## University to Canton Mapping"
   ]
  },
  {
   "cell_type": "markdown",
   "metadata": {},
   "source": [
    "A couple of other methods were attempted to generate the mappings, but they performed worse than the google maps API method shown here. The other methods are shown in appendix."
   ]
  },
  {
   "cell_type": "markdown",
   "metadata": {},
   "source": [
    "### Main Method: Google Maps API"
   ]
  },
  {
   "cell_type": "markdown",
   "metadata": {},
   "source": [
    "Finally, we use the google maps API to get the mapping. This method returned the best results, finding mappings for 17 universities out of 79.<br>\n",
    "Note that the key is removed here as well."
   ]
  },
  {
   "cell_type": "code",
   "execution_count": null,
   "metadata": {
    "collapsed": false
   },
   "outputs": [],
   "source": [
    "import googlemaps\n",
    "from datetime import datetime\n",
    "\n",
    "gmaps = googlemaps.Client(key='')\n",
    "\n",
    "geocode_result = gmaps.geocode('University of Neuchatel',region='ch')\n",
    "geocode_result"
   ]
  },
  {
   "cell_type": "code",
   "execution_count": null,
   "metadata": {
    "collapsed": true
   },
   "outputs": [],
   "source": [
    "def get_canton_from_geodata(geodata):\n",
    "    addr = geodata[0]['address_components']\n",
    "    for i in range(len(addr)):\n",
    "        if 'administrative_area_level_1' in addr[i]['types']:\n",
    "            return addr[i]['short_name']"
   ]
  },
  {
   "cell_type": "code",
   "execution_count": null,
   "metadata": {
    "collapsed": false
   },
   "outputs": [],
   "source": [
    "gmaps = googlemaps.Client(key='')\n",
    "\n",
    "uni_dict3 = {}\n",
    "i=0\n",
    "for uni in all_unis:\n",
    "    geocode_result = gmaps.geocode(uni,region='ch')\n",
    "    if len(geocode_result) > 0:\n",
    "        uni_dict3[uni] = get_canton_from_geodata(geocode_result)\n",
    "    else:\n",
    "        uni_dict3[uni] = 'NotFound'"
   ]
  },
  {
   "cell_type": "code",
   "execution_count": null,
   "metadata": {
    "collapsed": false
   },
   "outputs": [],
   "source": [
    "uni_canton_df3 = pd.DataFrame.from_dict(uni_dict3,orient=\"index\")\n",
    "uni_canton_df3.columns.names = ['University']\n",
    "uni_canton_df3 = uni_canton_df3.rename(columns={0:'Canton'})\n",
    "uni_canton_df3.tail()"
   ]
  },
  {
   "cell_type": "code",
   "execution_count": null,
   "metadata": {
    "collapsed": false
   },
   "outputs": [],
   "source": [
    "uni_canton_df3.Canton.value_counts()"
   ]
  },
  {
   "cell_type": "code",
   "execution_count": null,
   "metadata": {
    "collapsed": true
   },
   "outputs": [],
   "source": [
    "uni_canton_df3.to_csv('data/uni_to_cantons3.csv',index_label='University')"
   ]
  },
  {
   "cell_type": "markdown",
   "metadata": {},
   "source": [
    "### Fixing the missing values manually"
   ]
  },
  {
   "cell_type": "markdown",
   "metadata": {},
   "source": [
    "Finally, we manually add entries to the missing values. We store that in a csv and read it here.<br>\n",
    "In the end, we have mappings for 75 universities out of the original 79."
   ]
  },
  {
   "cell_type": "code",
   "execution_count": null,
   "metadata": {
    "collapsed": false
   },
   "outputs": [],
   "source": [
    "uni_canton_final = pd.read_csv('data/uni_to_cantons4.csv')\n",
    "uni_canton_final = uni_canton_final.set_index('University')\n",
    "uni_canton_final.Canton.value_counts()"
   ]
  },
  {
   "cell_type": "markdown",
   "metadata": {
    "collapsed": true
   },
   "source": [
    "## Amounts per canton"
   ]
  },
  {
   "cell_type": "markdown",
   "metadata": {},
   "source": [
    "Here, we aggregate the amount of grants of universities per canton.<br>\n",
    "We store this in a DataFrame, and also export it as a csv file."
   ]
  },
  {
   "cell_type": "code",
   "execution_count": null,
   "metadata": {
    "collapsed": false
   },
   "outputs": [],
   "source": [
    "def integrate_cantons(grants):\n",
    "    return uni_canton_final.loc[grants.University]"
   ]
  },
  {
   "cell_type": "code",
   "execution_count": null,
   "metadata": {
    "collapsed": false
   },
   "outputs": [],
   "source": [
    "all_cantons = integrate_cantons(grant_final)"
   ]
  },
  {
   "cell_type": "code",
   "execution_count": null,
   "metadata": {
    "collapsed": false
   },
   "outputs": [],
   "source": [
    "grant_final = grant_final.set_index('University')"
   ]
  },
  {
   "cell_type": "code",
   "execution_count": null,
   "metadata": {
    "collapsed": false
   },
   "outputs": [],
   "source": [
    "grant_by_cantons = pd.concat([grant_final, all_cantons],axis=1)\n",
    "grant_by_cantons = grant_by_cantons.reset_index()\n",
    "grant_by_cantons = grant_by_cantons.set_index('Canton')"
   ]
  },
  {
   "cell_type": "code",
   "execution_count": null,
   "metadata": {
    "collapsed": false
   },
   "outputs": [],
   "source": [
    "grant_by_cantons.head()"
   ]
  },
  {
   "cell_type": "code",
   "execution_count": null,
   "metadata": {
    "collapsed": false
   },
   "outputs": [],
   "source": [
    "def amounts_by_canton(grant_by_cantons):\n",
    "    canton_amounts = {}\n",
    "    for canton in cantons_short:\n",
    "        try:\n",
    "            this_canton_amounts = grant_by_cantons.Amount[canton]\n",
    "            this_canton_sum = pd.to_numeric(this_canton_amounts).sum()\n",
    "            canton_amounts[canton] = this_canton_sum/10**6\n",
    "        except:\n",
    "            canton_amounts[canton] = 0\n",
    "    return canton_amounts"
   ]
  },
  {
   "cell_type": "code",
   "execution_count": null,
   "metadata": {
    "collapsed": false
   },
   "outputs": [],
   "source": [
    "cantons_amounts = amounts_by_canton(grant_by_cantons)\n",
    "amounts_by_canton_df = pd.DataFrame.from_dict(cantons_amounts,orient='index')\n",
    "amounts_by_canton_df.columns.name = 'Canton'\n",
    "amounts_by_canton_df = amounts_by_canton_df.rename(columns ={0:'Amount'})"
   ]
  },
  {
   "cell_type": "code",
   "execution_count": null,
   "metadata": {
    "collapsed": false
   },
   "outputs": [],
   "source": [
    "amounts_by_canton_df.sort_values(by='Amount')"
   ]
  },
  {
   "cell_type": "code",
   "execution_count": null,
   "metadata": {
    "collapsed": true
   },
   "outputs": [],
   "source": [
    "amounts_by_canton_df.to_csv('data/amounts.csv',index_label='Canton')"
   ]
  },
  {
   "cell_type": "markdown",
   "metadata": {},
   "source": [
    "## Coordinate for each canton"
   ]
  },
  {
   "cell_type": "markdown",
   "metadata": {},
   "source": [
    "Here, we get the coordinates of each Canton using Geocoder.<br>\n",
    "We store that in a DataFrame."
   ]
  },
  {
   "cell_type": "code",
   "execution_count": null,
   "metadata": {
    "collapsed": false
   },
   "outputs": [],
   "source": [
    "def cantons_coordinates(all_cantons, coordinates):\n",
    "    for canton in cantons.index:\n",
    "        g = geocoder.google(cantons.loc[canton]['Name'],region='ch',timeout=15)\n",
    "        if len(g.latlng) > 0:\n",
    "            coordinates[cantons.loc[canton]['ABBR']] = g.latlng\n",
    "    return coordinates"
   ]
  },
  {
   "cell_type": "code",
   "execution_count": null,
   "metadata": {
    "collapsed": false,
    "scrolled": true
   },
   "outputs": [],
   "source": [
    "coordinates_of_cantons = {}\n",
    "while len(coordinates_of_cantons) < 26:\n",
    "    coordinates_of_cantons = cantons_coordinates(all_cantons, coordinates_of_cantons)\n",
    "    print(len(coordinates_of_cantons))"
   ]
  },
  {
   "cell_type": "code",
   "execution_count": null,
   "metadata": {
    "collapsed": false
   },
   "outputs": [],
   "source": [
    "coordinates_of_cantons"
   ]
  },
  {
   "cell_type": "code",
   "execution_count": null,
   "metadata": {
    "collapsed": false
   },
   "outputs": [],
   "source": [
    "coordiantes_of_cantons_df = pd.DataFrame.from_dict(coordinates_of_cantons,orient='index')\n",
    "coordiantes_of_cantons_df.columns.name = 'Canton'\n",
    "coordiantes_of_cantons_df = coordiantes_of_cantons_df.rename(columns ={0:'Latitude',1:'Longitude'})"
   ]
  },
  {
   "cell_type": "code",
   "execution_count": null,
   "metadata": {
    "collapsed": false
   },
   "outputs": [],
   "source": [
    "coordiantes_of_cantons_df"
   ]
  },
  {
   "cell_type": "markdown",
   "metadata": {},
   "source": [
    "## Visualizing the Data"
   ]
  },
  {
   "cell_type": "markdown",
   "metadata": {},
   "source": [
    "Here, we show a Choropleth map of the sum of grants awarded to each canton."
   ]
  },
  {
   "cell_type": "code",
   "execution_count": null,
   "metadata": {
    "collapsed": false
   },
   "outputs": [],
   "source": [
    "amount_data = pd.read_csv('data/amounts.csv')\n",
    "amount_data"
   ]
  },
  {
   "cell_type": "code",
   "execution_count": null,
   "metadata": {
    "collapsed": false
   },
   "outputs": [],
   "source": [
    "swiss = geocoder.google('Switzerland',timeout=15)"
   ]
  },
  {
   "cell_type": "code",
   "execution_count": null,
   "metadata": {
    "collapsed": true
   },
   "outputs": [],
   "source": [
    "topo_path = r'ch-cantons.topojson.json'"
   ]
  },
  {
   "cell_type": "markdown",
   "metadata": {},
   "source": [
    "The map below is saved to the cantons.html file for easier viewing."
   ]
  },
  {
   "cell_type": "code",
   "execution_count": null,
   "metadata": {
    "collapsed": false
   },
   "outputs": [],
   "source": [
    "swiss_map = folium.Map(location=swiss.latlng, zoom_start=7,tiles='cartodbpositron')\n",
    "swiss_map.choropleth(\n",
    "    geo_path=topo_path,topojson='objects.cantons',\n",
    "    fill_color='red',\n",
    "    fill_opacity=0.3,\n",
    "    line_weight=2,\n",
    ")\n",
    "swiss_map.save('cantons.html')\n",
    "swiss_map"
   ]
  },
  {
   "cell_type": "markdown",
   "metadata": {},
   "source": [
    "We now use the data of the grants that was collected earlier to create the Choropleth map.<br>\n",
    "This is saved in chloro.html"
   ]
  },
  {
   "cell_type": "code",
   "execution_count": null,
   "metadata": {
    "collapsed": false
   },
   "outputs": [],
   "source": [
    "swiss_map = folium.Map(location=swiss.latlng, zoom_start=7,tiles='cartodbpositron')\n",
    "swiss_map.choropleth(geo_path=topo_path,topojson='objects.cantons',data=amount_data,\n",
    "             columns=['Canton', 'Amount'],\n",
    "             key_on='feature.id',\n",
    "             fill_color='YlGn', fill_opacity=0.7, line_opacity=0.2,\n",
    "             legend_name='Amount',\n",
    "            threshold_scale=[10,100,500,1000,2000])\n",
    "swiss_map.save('chloro.html')\n",
    "swiss_map"
   ]
  },
  {
   "cell_type": "markdown",
   "metadata": {},
   "source": [
    "Lastly, we add a marker to each canton, that when clicked will produce a popup showing the canton short name, in addition to the amount of grant its universities received (in millions of francs).<br>\n",
    "This is saved in popup.html"
   ]
  },
  {
   "cell_type": "code",
   "execution_count": null,
   "metadata": {
    "collapsed": false
   },
   "outputs": [],
   "source": [
    "for canton in coordiantes_of_cantons_df.index:\n",
    "    lat = coordiantes_of_cantons_df['Latitude'][canton]\n",
    "    lng = coordiantes_of_cantons_df['Longitude'][canton]\n",
    "    folium.Marker([lat, lng], popup = canton + ': ' + \\\n",
    "                  str(round(amounts_by_canton_df['Amount'][canton], 2)) + 'M CHF').add_to(swiss_map)\n",
    "swiss_map.save('popup.html')\n",
    "swiss_map"
   ]
  },
  {
   "cell_type": "markdown",
   "metadata": {},
   "source": [
    "## Appendix"
   ]
  },
  {
   "cell_type": "markdown",
   "metadata": {},
   "source": [
    "### Alternative Method 1: Geocoder"
   ]
  },
  {
   "cell_type": "markdown",
   "metadata": {},
   "source": [
    "We use the following geocoder method to search for the Canton of each university."
   ]
  },
  {
   "cell_type": "code",
   "execution_count": null,
   "metadata": {
    "collapsed": false
   },
   "outputs": [],
   "source": [
    "g = geocoder.reverse(\"ETHZ\",timeout=15)\n",
    "g.province_long"
   ]
  },
  {
   "cell_type": "markdown",
   "metadata": {},
   "source": [
    "We do this for all universities in our data and store the results in a dictionary."
   ]
  },
  {
   "cell_type": "code",
   "execution_count": null,
   "metadata": {
    "collapsed": false
   },
   "outputs": [],
   "source": [
    "uni_dict = {}\n",
    "for uni in all_unis:\n",
    "    g = geocoder.reverse(uni,timeout=60)\n",
    "    uni_dict[uni] = g.province\n",
    "    #print(uni,g.province)"
   ]
  },
  {
   "cell_type": "markdown",
   "metadata": {},
   "source": [
    "We then convert this into a DataFrame that is more easily read."
   ]
  },
  {
   "cell_type": "code",
   "execution_count": null,
   "metadata": {
    "collapsed": false
   },
   "outputs": [],
   "source": [
    "uni_canton_df = pd.DataFrame.from_dict(uni_dict,orient=\"index\")\n",
    "uni_canton_df.columns.names = ['University']\n",
    "uni_canton_df = uni_canton_df.rename(columns={0:'Canton'})\n",
    "uni_canton_df.fillna(\"NotFound\", inplace=True)\n",
    "uni_canton_df.tail()"
   ]
  },
  {
   "cell_type": "markdown",
   "metadata": {},
   "source": [
    "This method found mappings for 17 universities out of the total 79."
   ]
  },
  {
   "cell_type": "code",
   "execution_count": null,
   "metadata": {
    "collapsed": false
   },
   "outputs": [],
   "source": [
    "uni_canton_df.Canton.value_counts()"
   ]
  },
  {
   "cell_type": "markdown",
   "metadata": {},
   "source": [
    "We store the results obtained in a csv file."
   ]
  },
  {
   "cell_type": "code",
   "execution_count": null,
   "metadata": {
    "collapsed": true
   },
   "outputs": [],
   "source": [
    "uni_canton_df.to_csv('data/uni_to_cantons.csv',index_label='University')"
   ]
  },
  {
   "cell_type": "markdown",
   "metadata": {},
   "source": [
    "### Alternative Method 2: Geonames API"
   ]
  },
  {
   "cell_type": "markdown",
   "metadata": {},
   "source": [
    "We use the geonames API to do the same thing. Note that the username is removed here."
   ]
  },
  {
   "cell_type": "code",
   "execution_count": null,
   "metadata": {
    "collapsed": false
   },
   "outputs": [],
   "source": [
    "_USERNAME = ''\n",
    "\n",
    "uni_dict2 = {}\n",
    "i=0\n",
    "for uni in all_unis:\n",
    "    query_url = ''.join(['http://api.geonames.org//searchJSON?formatted=true&q=',uni,'&country=ch&username=',_USERNAME])\n",
    "    r = requests.get(query_url)\n",
    "    geodata = json.loads(r.text)\n",
    "    if geodata['totalResultsCount'] !=0:\n",
    "        uni_dict2[uni] = geodata['geonames'][0]['adminCode1']\n",
    "    else:\n",
    "        uni_dict2[uni] = 'NotFound'"
   ]
  },
  {
   "cell_type": "code",
   "execution_count": null,
   "metadata": {
    "collapsed": false
   },
   "outputs": [],
   "source": [
    "uni_canton_df2 = pd.DataFrame.from_dict(uni_dict2,orient=\"index\")\n",
    "uni_canton_df2.columns.names = ['University']\n",
    "uni_canton_df2 = uni_canton_df2.rename(columns={0:'Canton'})\n",
    "uni_canton_df2.tail()"
   ]
  },
  {
   "cell_type": "markdown",
   "metadata": {},
   "source": [
    "This method only finds mappings for 5 universities out of the total 79."
   ]
  },
  {
   "cell_type": "code",
   "execution_count": null,
   "metadata": {
    "collapsed": false
   },
   "outputs": [],
   "source": [
    "uni_canton_df2.Canton.value_counts()"
   ]
  },
  {
   "cell_type": "code",
   "execution_count": null,
   "metadata": {
    "collapsed": true
   },
   "outputs": [],
   "source": [
    "uni_canton_df2.to_csv('data/uni_to_cantons2.csv',index_label='University')"
   ]
  }
 ],
 "metadata": {
  "anaconda-cloud": {},
  "kernelspec": {
   "display_name": "Python [Root]",
   "language": "python",
   "name": "Python [Root]"
  },
  "language_info": {
   "codemirror_mode": {
    "name": "ipython",
    "version": 3
   },
   "file_extension": ".py",
   "mimetype": "text/x-python",
   "name": "python",
   "nbconvert_exporter": "python",
   "pygments_lexer": "ipython3",
   "version": "3.5.2"
  }
 },
 "nbformat": 4,
 "nbformat_minor": 0
}
